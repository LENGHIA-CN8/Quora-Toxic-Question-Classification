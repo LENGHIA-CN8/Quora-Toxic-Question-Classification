{
 "cells": [
  {
   "cell_type": "markdown",
   "metadata": {
    "papermill": {
     "duration": 0.113632,
     "end_time": "2022-01-07T17:12:37.017944",
     "exception": false,
     "start_time": "2022-01-07T17:12:36.904312",
     "status": "completed"
    },
    "tags": []
   },
   "source": [
    "# **Báo cáo bài tập lớn môn Học máy**\n",
    "**Giảng viên:** Trần Quốc Long<br>\n",
    "**Lớp môn học:** INT3405E_20<br>\n",
    "**Sinh viên:** Tần Lê Nghĩa<br>\n",
    "**MSSV:** 18020949<br>"
   ]
  },
  {
   "cell_type": "markdown",
   "metadata": {
    "papermill": {
     "duration": 0.088056,
     "end_time": "2022-01-07T17:12:37.196005",
     "exception": false,
     "start_time": "2022-01-07T17:12:37.107949",
     "status": "completed"
    },
    "tags": []
   },
   "source": [
    "# **Mô tả bài toán**\n",
    "**Quora** là một nền tảng cho phép mọi người học hỏi lẫn nhau. Trên **Quora**, mọi người có thể đặt câu hỏi và kết nối với những người khác, mọi người cùng nhau đóng góp thông tin chi tiết độc đáo và câu trả lời chất lượng. Tuy nhiên có một thực trạng đó là xuất hiện những câu hỏi thiếu chân thành - những câu hỏi được đặt ra mang thiên hướng tiên cực, quấy rối.\n",
    "\n",
    "**Quora Insincere Question Classification** là một bài toán của **Quora** đặt ra, sử dụng sự trợ giúp từ cộng đồng, giúp họ phân loại những câu hỏi không chân thành.\n",
    "\n",
    "Nhiệm vụ của bài toán là sử dụng tập dữ liệu mà **Quora** cung cấp để phân loại đâu là những câu hỏi mang hàm ý không chân thành, mang nội dung xấu độc, gây hiểu lầm."
   ]
  },
  {
   "cell_type": "code",
   "execution_count": 1,
   "metadata": {
    "execution": {
     "iopub.execute_input": "2022-01-07T17:12:37.379347Z",
     "iopub.status.busy": "2022-01-07T17:12:37.378314Z",
     "iopub.status.idle": "2022-01-07T17:12:39.115165Z",
     "shell.execute_reply": "2022-01-07T17:12:39.114480Z",
     "shell.execute_reply.started": "2022-01-07T16:09:01.888110Z"
    },
    "papermill": {
     "duration": 1.833047,
     "end_time": "2022-01-07T17:12:39.115319",
     "exception": false,
     "start_time": "2022-01-07T17:12:37.282272",
     "status": "completed"
    },
    "tags": []
   },
   "outputs": [],
   "source": [
    "import re\n",
    "import sys\n",
    "import math\n",
    "import string\n",
    "import zipfile\n",
    "import unicodedata\n",
    "import numpy as np\n",
    "import pandas as pd\n",
    "import matplotlib.pyplot as plt\n",
    "from tqdm import tqdm\n",
    "from collections import Counter\n",
    "from gensim.models import KeyedVectors\n",
    "from sklearn import metrics\n",
    "from sklearn.metrics import f1_score, classification_report\n",
    "from sklearn.model_selection import train_test_split\n",
    "from wordcloud import WordCloud\n",
    "import nltk\n",
    "from nltk.corpus import stopwords\n",
    "from tqdm import tqdm\n",
    "from tqdm.notebook import tqdm_notebook\n",
    "import gc\n",
    "\n",
    "tqdm_notebook.pandas()"
   ]
  },
  {
   "cell_type": "markdown",
   "metadata": {
    "papermill": {
     "duration": 0.051595,
     "end_time": "2022-01-07T17:12:39.219312",
     "exception": false,
     "start_time": "2022-01-07T17:12:39.167717",
     "status": "completed"
    },
    "tags": []
   },
   "source": [
    "# Phân tích dữ liệu"
   ]
  },
  {
   "cell_type": "markdown",
   "metadata": {
    "papermill": {
     "duration": 0.052024,
     "end_time": "2022-01-07T17:12:39.324063",
     "exception": false,
     "start_time": "2022-01-07T17:12:39.272039",
     "status": "completed"
    },
    "tags": []
   },
   "source": [
    "## Chuẩn bị dữ liệu"
   ]
  },
  {
   "cell_type": "code",
   "execution_count": 2,
   "metadata": {
    "execution": {
     "iopub.execute_input": "2022-01-07T17:12:39.436092Z",
     "iopub.status.busy": "2022-01-07T17:12:39.435234Z",
     "iopub.status.idle": "2022-01-07T17:12:40.105835Z",
     "shell.execute_reply": "2022-01-07T17:12:40.105354Z",
     "shell.execute_reply.started": "2022-01-07T16:09:03.388610Z"
    },
    "papermill": {
     "duration": 0.728705,
     "end_time": "2022-01-07T17:12:40.105966",
     "exception": false,
     "start_time": "2022-01-07T17:12:39.377261",
     "status": "completed"
    },
    "tags": []
   },
   "outputs": [
    {
     "name": "stdout",
     "output_type": "stream",
     "text": [
      "embeddings.zip\tsample_submission.csv  test.csv  train.csv\r\n"
     ]
    }
   ],
   "source": [
    "## Cấu trúc thư mục\n",
    "!ls ../input/quora-insincere-questions-classification/"
   ]
  },
  {
   "cell_type": "markdown",
   "metadata": {
    "papermill": {
     "duration": 0.052854,
     "end_time": "2022-01-07T17:12:40.211523",
     "exception": false,
     "start_time": "2022-01-07T17:12:40.158669",
     "status": "completed"
    },
    "tags": []
   },
   "source": [
    "Dữ liệu cuộc thi cung cấp gồm:\n",
    "* `train.csv` dữ liệu huấn luyện\n",
    "* `test.csv` dữ liệu kiểm thử\n",
    "* `sample_submission.csv` file mẫu nộp lên cuộc thi\n",
    "* `embeddings.zip` file chứa tập embeddings cuộc thi cung cấp do cuộc thi không cho sử dụng data bên ngoài"
   ]
  },
  {
   "cell_type": "code",
   "execution_count": 3,
   "metadata": {
    "execution": {
     "iopub.execute_input": "2022-01-07T17:12:40.321285Z",
     "iopub.status.busy": "2022-01-07T17:12:40.320652Z",
     "iopub.status.idle": "2022-01-07T17:12:45.266997Z",
     "shell.execute_reply": "2022-01-07T17:12:45.266075Z",
     "shell.execute_reply.started": "2022-01-07T16:09:04.070121Z"
    },
    "papermill": {
     "duration": 5.003645,
     "end_time": "2022-01-07T17:12:45.267141",
     "exception": false,
     "start_time": "2022-01-07T17:12:40.263496",
     "status": "completed"
    },
    "tags": []
   },
   "outputs": [],
   "source": [
    "# Load dữ liệu\n",
    "train_df = pd.read_csv('../input/quora-insincere-questions-classification/train.csv')\n",
    "test_df = pd.read_csv('../input/quora-insincere-questions-classification/test.csv')"
   ]
  },
  {
   "cell_type": "code",
   "execution_count": 4,
   "metadata": {
    "execution": {
     "iopub.execute_input": "2022-01-07T17:12:45.381610Z",
     "iopub.status.busy": "2022-01-07T17:12:45.380883Z",
     "iopub.status.idle": "2022-01-07T17:12:45.392924Z",
     "shell.execute_reply": "2022-01-07T17:12:45.393330Z",
     "shell.execute_reply.started": "2022-01-07T16:09:09.119112Z"
    },
    "papermill": {
     "duration": 0.073637,
     "end_time": "2022-01-07T17:12:45.393464",
     "exception": false,
     "start_time": "2022-01-07T17:12:45.319827",
     "status": "completed"
    },
    "tags": []
   },
   "outputs": [
    {
     "data": {
      "text/html": [
       "<div>\n",
       "<style scoped>\n",
       "    .dataframe tbody tr th:only-of-type {\n",
       "        vertical-align: middle;\n",
       "    }\n",
       "\n",
       "    .dataframe tbody tr th {\n",
       "        vertical-align: top;\n",
       "    }\n",
       "\n",
       "    .dataframe thead th {\n",
       "        text-align: right;\n",
       "    }\n",
       "</style>\n",
       "<table border=\"1\" class=\"dataframe\">\n",
       "  <thead>\n",
       "    <tr style=\"text-align: right;\">\n",
       "      <th></th>\n",
       "      <th>qid</th>\n",
       "      <th>question_text</th>\n",
       "      <th>target</th>\n",
       "    </tr>\n",
       "  </thead>\n",
       "  <tbody>\n",
       "    <tr>\n",
       "      <th>0</th>\n",
       "      <td>00002165364db923c7e6</td>\n",
       "      <td>How did Quebec nationalists see their province...</td>\n",
       "      <td>0</td>\n",
       "    </tr>\n",
       "    <tr>\n",
       "      <th>1</th>\n",
       "      <td>000032939017120e6e44</td>\n",
       "      <td>Do you have an adopted dog, how would you enco...</td>\n",
       "      <td>0</td>\n",
       "    </tr>\n",
       "    <tr>\n",
       "      <th>2</th>\n",
       "      <td>0000412ca6e4628ce2cf</td>\n",
       "      <td>Why does velocity affect time? Does velocity a...</td>\n",
       "      <td>0</td>\n",
       "    </tr>\n",
       "    <tr>\n",
       "      <th>3</th>\n",
       "      <td>000042bf85aa498cd78e</td>\n",
       "      <td>How did Otto von Guericke used the Magdeburg h...</td>\n",
       "      <td>0</td>\n",
       "    </tr>\n",
       "    <tr>\n",
       "      <th>4</th>\n",
       "      <td>0000455dfa3e01eae3af</td>\n",
       "      <td>Can I convert montra helicon D to a mountain b...</td>\n",
       "      <td>0</td>\n",
       "    </tr>\n",
       "  </tbody>\n",
       "</table>\n",
       "</div>"
      ],
      "text/plain": [
       "                    qid                                      question_text  \\\n",
       "0  00002165364db923c7e6  How did Quebec nationalists see their province...   \n",
       "1  000032939017120e6e44  Do you have an adopted dog, how would you enco...   \n",
       "2  0000412ca6e4628ce2cf  Why does velocity affect time? Does velocity a...   \n",
       "3  000042bf85aa498cd78e  How did Otto von Guericke used the Magdeburg h...   \n",
       "4  0000455dfa3e01eae3af  Can I convert montra helicon D to a mountain b...   \n",
       "\n",
       "   target  \n",
       "0       0  \n",
       "1       0  \n",
       "2       0  \n",
       "3       0  \n",
       "4       0  "
      ]
     },
     "execution_count": 4,
     "metadata": {},
     "output_type": "execute_result"
    }
   ],
   "source": [
    "## Tổng quan dữ liệu train\n",
    "train_df.head()"
   ]
  },
  {
   "cell_type": "code",
   "execution_count": 5,
   "metadata": {
    "execution": {
     "iopub.execute_input": "2022-01-07T17:12:45.506659Z",
     "iopub.status.busy": "2022-01-07T17:12:45.506099Z",
     "iopub.status.idle": "2022-01-07T17:12:45.780794Z",
     "shell.execute_reply": "2022-01-07T17:12:45.781327Z",
     "shell.execute_reply.started": "2022-01-07T16:09:09.142899Z"
    },
    "papermill": {
     "duration": 0.333268,
     "end_time": "2022-01-07T17:12:45.781483",
     "exception": false,
     "start_time": "2022-01-07T17:12:45.448215",
     "status": "completed"
    },
    "tags": []
   },
   "outputs": [
    {
     "name": "stdout",
     "output_type": "stream",
     "text": [
      "<class 'pandas.core.frame.DataFrame'>\n",
      "RangeIndex: 1306122 entries, 0 to 1306121\n",
      "Data columns (total 3 columns):\n",
      " #   Column         Non-Null Count    Dtype \n",
      "---  ------         --------------    ----- \n",
      " 0   qid            1306122 non-null  object\n",
      " 1   question_text  1306122 non-null  object\n",
      " 2   target         1306122 non-null  int64 \n",
      "dtypes: int64(1), object(2)\n",
      "memory usage: 29.9+ MB\n"
     ]
    }
   ],
   "source": [
    "train_df.info()"
   ]
  },
  {
   "cell_type": "markdown",
   "metadata": {
    "papermill": {
     "duration": 0.052471,
     "end_time": "2022-01-07T17:12:45.888248",
     "exception": false,
     "start_time": "2022-01-07T17:12:45.835777",
     "status": "completed"
    },
    "tags": []
   },
   "source": [
    "Dữ liệu huấn luyện gồm **1306122** dòng dữ liệu.\n",
    "\n",
    "Dữ liệu huấn luyện đầu vào gồm 3 cột thông tin:\n",
    "* `qid`: ID của câu hỏi\n",
    "* `question_text`: tiêu đề câu hỏi, dữ liệu ta cần phân loại\n",
    "* `target`: kết quả cho thấy câu hỏi có thiếu chân thành không (1 - thiếu chân thành, 0 - chân thành)\n",
    "\n",
    "Không có trường dữ liệu nào có **giá trị thiếu hoặc null**"
   ]
  },
  {
   "cell_type": "code",
   "execution_count": 6,
   "metadata": {
    "execution": {
     "iopub.execute_input": "2022-01-07T17:12:46.002584Z",
     "iopub.status.busy": "2022-01-07T17:12:46.002091Z",
     "iopub.status.idle": "2022-01-07T17:12:46.007613Z",
     "shell.execute_reply": "2022-01-07T17:12:46.007221Z",
     "shell.execute_reply.started": "2022-01-07T16:09:09.419413Z"
    },
    "papermill": {
     "duration": 0.065863,
     "end_time": "2022-01-07T17:12:46.007773",
     "exception": false,
     "start_time": "2022-01-07T17:12:45.941910",
     "status": "completed"
    },
    "tags": []
   },
   "outputs": [
    {
     "data": {
      "text/html": [
       "<div>\n",
       "<style scoped>\n",
       "    .dataframe tbody tr th:only-of-type {\n",
       "        vertical-align: middle;\n",
       "    }\n",
       "\n",
       "    .dataframe tbody tr th {\n",
       "        vertical-align: top;\n",
       "    }\n",
       "\n",
       "    .dataframe thead th {\n",
       "        text-align: right;\n",
       "    }\n",
       "</style>\n",
       "<table border=\"1\" class=\"dataframe\">\n",
       "  <thead>\n",
       "    <tr style=\"text-align: right;\">\n",
       "      <th></th>\n",
       "      <th>qid</th>\n",
       "      <th>question_text</th>\n",
       "    </tr>\n",
       "  </thead>\n",
       "  <tbody>\n",
       "    <tr>\n",
       "      <th>0</th>\n",
       "      <td>0000163e3ea7c7a74cd7</td>\n",
       "      <td>Why do so many women become so rude and arroga...</td>\n",
       "    </tr>\n",
       "    <tr>\n",
       "      <th>1</th>\n",
       "      <td>00002bd4fb5d505b9161</td>\n",
       "      <td>When should I apply for RV college of engineer...</td>\n",
       "    </tr>\n",
       "    <tr>\n",
       "      <th>2</th>\n",
       "      <td>00007756b4a147d2b0b3</td>\n",
       "      <td>What is it really like to be a nurse practitio...</td>\n",
       "    </tr>\n",
       "    <tr>\n",
       "      <th>3</th>\n",
       "      <td>000086e4b7e1c7146103</td>\n",
       "      <td>Who are entrepreneurs?</td>\n",
       "    </tr>\n",
       "    <tr>\n",
       "      <th>4</th>\n",
       "      <td>0000c4c3fbe8785a3090</td>\n",
       "      <td>Is education really making good people nowadays?</td>\n",
       "    </tr>\n",
       "  </tbody>\n",
       "</table>\n",
       "</div>"
      ],
      "text/plain": [
       "                    qid                                      question_text\n",
       "0  0000163e3ea7c7a74cd7  Why do so many women become so rude and arroga...\n",
       "1  00002bd4fb5d505b9161  When should I apply for RV college of engineer...\n",
       "2  00007756b4a147d2b0b3  What is it really like to be a nurse practitio...\n",
       "3  000086e4b7e1c7146103                             Who are entrepreneurs?\n",
       "4  0000c4c3fbe8785a3090   Is education really making good people nowadays?"
      ]
     },
     "execution_count": 6,
     "metadata": {},
     "output_type": "execute_result"
    }
   ],
   "source": [
    "# Tổng quan dữ liệu test\n",
    "test_df.head()"
   ]
  },
  {
   "cell_type": "code",
   "execution_count": 7,
   "metadata": {
    "execution": {
     "iopub.execute_input": "2022-01-07T17:12:46.189520Z",
     "iopub.status.busy": "2022-01-07T17:12:46.188662Z",
     "iopub.status.idle": "2022-01-07T17:12:46.198258Z",
     "shell.execute_reply": "2022-01-07T17:12:46.197849Z",
     "shell.execute_reply.started": "2022-01-07T16:09:09.430666Z"
    },
    "papermill": {
     "duration": 0.137308,
     "end_time": "2022-01-07T17:12:46.198369",
     "exception": false,
     "start_time": "2022-01-07T17:12:46.061061",
     "status": "completed"
    },
    "tags": []
   },
   "outputs": [
    {
     "name": "stdout",
     "output_type": "stream",
     "text": [
      "<class 'pandas.core.frame.DataFrame'>\n",
      "RangeIndex: 375806 entries, 0 to 375805\n",
      "Data columns (total 2 columns):\n",
      " #   Column         Non-Null Count   Dtype \n",
      "---  ------         --------------   ----- \n",
      " 0   qid            375806 non-null  object\n",
      " 1   question_text  375806 non-null  object\n",
      "dtypes: object(2)\n",
      "memory usage: 5.7+ MB\n"
     ]
    }
   ],
   "source": [
    "test_df.info()"
   ]
  },
  {
   "cell_type": "markdown",
   "metadata": {
    "papermill": {
     "duration": 0.053047,
     "end_time": "2022-01-07T17:12:46.304531",
     "exception": false,
     "start_time": "2022-01-07T17:12:46.251484",
     "status": "completed"
    },
    "tags": []
   },
   "source": [
    "Dữ liệu kiểm thử gồm **375806** dòng dữ liệu.\n",
    "\n",
    "Dữ liệu kiểm thử bao gồm 2 cột thông tin:\n",
    "* `qid`: ID của câu hỏi\n",
    "* `question_text`: tiêu đề câu hỏi, dữ liệu ta cần phân loại\n",
    "\n",
    "Không có trường dữ liệu nào có **giá trị thiếu hoặc null**"
   ]
  },
  {
   "cell_type": "markdown",
   "metadata": {
    "papermill": {
     "duration": 0.052765,
     "end_time": "2022-01-07T17:12:46.410140",
     "exception": false,
     "start_time": "2022-01-07T17:12:46.357375",
     "status": "completed"
    },
    "tags": []
   },
   "source": [
    "## Trực quan hoá dữ liệu"
   ]
  },
  {
   "cell_type": "markdown",
   "metadata": {
    "papermill": {
     "duration": 0.054623,
     "end_time": "2022-01-07T17:12:46.518570",
     "exception": false,
     "start_time": "2022-01-07T17:12:46.463947",
     "status": "completed"
    },
    "tags": []
   },
   "source": [
    "Ta sẽ sử dụng **barplot** và **piechart** để có cái nhìn trực quan về phân bố dữ liệu."
   ]
  },
  {
   "cell_type": "code",
   "execution_count": 8,
   "metadata": {
    "execution": {
     "iopub.execute_input": "2022-01-07T17:12:46.636002Z",
     "iopub.status.busy": "2022-01-07T17:12:46.630533Z",
     "iopub.status.idle": "2022-01-07T17:12:46.846541Z",
     "shell.execute_reply": "2022-01-07T17:12:46.846956Z",
     "shell.execute_reply.started": "2022-01-07T16:09:09.516284Z"
    },
    "papermill": {
     "duration": 0.275399,
     "end_time": "2022-01-07T17:12:46.847107",
     "exception": false,
     "start_time": "2022-01-07T17:12:46.571708",
     "status": "completed"
    },
    "tags": []
   },
   "outputs": [
    {
     "data": {
      "text/plain": [
       "<AxesSubplot:>"
      ]
     },
     "execution_count": 8,
     "metadata": {},
     "output_type": "execute_result"
    },
    {
     "data": {
      "image/png": "[encoded data removed]",
      "text/plain": [
       "<Figure size 432x288 with 1 Axes>"
      ]
     },
     "metadata": {
      "needs_background": "light"
     },
     "output_type": "display_data"
    }
   ],
   "source": [
    "## Biểu đồ bar plot\n",
    "train_df['target'].value_counts().plot(kind='bar')"
   ]
  },
  {
   "cell_type": "code",
   "execution_count": 9,
   "metadata": {
    "execution": {
     "iopub.execute_input": "2022-01-07T17:12:46.981800Z",
     "iopub.status.busy": "2022-01-07T17:12:46.970545Z",
     "iopub.status.idle": "2022-01-07T17:12:47.254019Z",
     "shell.execute_reply": "2022-01-07T17:12:47.255054Z",
     "shell.execute_reply.started": "2022-01-07T16:09:09.859134Z"
    },
    "papermill": {
     "duration": 0.353746,
     "end_time": "2022-01-07T17:12:47.255295",
     "exception": false,
     "start_time": "2022-01-07T17:12:46.901549",
     "status": "completed"
    },
    "tags": []
   },
   "outputs": [
    {
     "data": {
      "image/png": "[encoded data removed]",
      "text/plain": [
       "<Figure size 432x288 with 1 Axes>"
      ]
     },
     "metadata": {},
     "output_type": "display_data"
    }
   ],
   "source": [
    "# Pie Chart\n",
    "plt.subplot(1, 2, 2)\n",
    "values = [train_df[train_df['target']==0].shape[0], train_df[train_df['target']==1].shape[0]]\n",
    "labels = ['Sincere questions', 'Insincere questions']\n",
    "\n",
    "plt.pie(values, labels=labels, autopct='%1.1f%%', shadow=True)\n",
    "plt.title('Target Distribution')\n",
    "plt.tight_layout()\n",
    "plt.subplots_adjust(right=1.9)\n",
    "plt.show()"
   ]
  },
  {
   "cell_type": "markdown",
   "metadata": {
    "papermill": {
     "duration": 0.054673,
     "end_time": "2022-01-07T17:12:47.366878",
     "exception": false,
     "start_time": "2022-01-07T17:12:47.312205",
     "status": "completed"
    },
    "tags": []
   },
   "source": [
    "**Vấn đề**: \n",
    "\n",
    "Số lượng câu hỏi thiếu chân thành (nhãn 1) **thấp hơn rất nhiều** so với các câu hỏi chân thành và chỉ chiếm **6.2%** trên toàn bộ dữ liệu\n",
    "\n",
    "=> Dữ liệu bị mất cân bằng\n",
    "\n",
    "Điều này có thể dẫn đến một số vấn đề:\n",
    "\n",
    "Mô hình dự đoán kém: Mô hình sẽ có thiên hướng dự đoán thiên lệch về nhãn đa số.\n",
    "\n",
    "Đánh giá sai chất lượng mô hình: Ta sẽ không thể đánh giá mô hình bằng độ đo **accuracy** hay **recall** bởi mô hình có thể dự đoán toàn bộ mẫu là 0 mặc dù trong khi đó accuracy và recall lại đạt giá trị cao.\n",
    "\n",
    "Vì vậy ta sẽ lựa chọn hàm đánh giá là **F1_score** để đánh giá chất lượng mô hình"
   ]
  },
  {
   "cell_type": "markdown",
   "metadata": {
    "papermill": {
     "duration": 0.05569,
     "end_time": "2022-01-07T17:12:47.477375",
     "exception": false,
     "start_time": "2022-01-07T17:12:47.421685",
     "status": "completed"
    },
    "tags": []
   },
   "source": [
    "## WordCloud"
   ]
  },
  {
   "cell_type": "markdown",
   "metadata": {
    "papermill": {
     "duration": 0.055379,
     "end_time": "2022-01-07T17:12:47.588440",
     "exception": false,
     "start_time": "2022-01-07T17:12:47.533061",
     "status": "completed"
    },
    "tags": []
   },
   "source": [
    "**WordCloud** sẽ giúp chúng ta có cái nhìn trực quan về các từ sẽ chủ yếu xuất hiện trong các câu không chân thành và chân thành\n",
    "\n",
    "Các từ xuất hiện tần suất càng nhiều thì từ đó sẽ được hiển thị to và đậm\n",
    "\n",
    "Ta sẽ định nghĩa hàm: \n",
    "* `word_freq_dict` tạo từ điển về tần suất xuất hiện các từ\n",
    "* `word_cloud_frequency` hàm hiển thị WordCloud từ điển tần suất. Trong hàm này sẽ được loại bỏ các stopword dựa vào thư viện nltk để lấy ra những từ đặc trưng nhất cho hai nhãn"
   ]
  },
  {
   "cell_type": "code",
   "execution_count": 10,
   "metadata": {
    "execution": {
     "iopub.execute_input": "2022-01-07T17:12:47.706468Z",
     "iopub.status.busy": "2022-01-07T17:12:47.705831Z",
     "iopub.status.idle": "2022-01-07T17:12:47.713876Z",
     "shell.execute_reply": "2022-01-07T17:12:47.713432Z",
     "shell.execute_reply.started": "2022-01-07T16:09:10.159353Z"
    },
    "papermill": {
     "duration": 0.070779,
     "end_time": "2022-01-07T17:12:47.713994",
     "exception": false,
     "start_time": "2022-01-07T17:12:47.643215",
     "status": "completed"
    },
    "tags": []
   },
   "outputs": [],
   "source": [
    "# Stopword từ nltk\n",
    "stop_words = set(stopwords.words('english'))\n",
    "\n",
    "# Tạo từ điển tần suất\n",
    "def word_freq_dict(text):\n",
    "    # Convert text into word list\n",
    "    wordList = text.split()\n",
    "    # Generate word freq dictionary\n",
    "    vocab = Counter(wordList) \n",
    "    freq_dict = dict(vocab.most_common())\n",
    "    return freq_dict\n",
    "    \n",
    "# Plot a wordcloud from a word frequency dictionary\n",
    "def word_cloud_frequency(word_freq_dict, title, figure_size=(10,6)):\n",
    "    for w in stop_words:\n",
    "        if w in word_freq_dict:\n",
    "            word_freq_dict.pop(w)\n",
    "    wordcloud.generate_from_frequencies(word_freq_dict)\n",
    "    plt.figure(figsize=figure_size)\n",
    "    plt.imshow(wordcloud)\n",
    "    plt.axis(\"off\")\n",
    "    plt.title(title)\n",
    "    plt.show()"
   ]
  },
  {
   "cell_type": "code",
   "execution_count": 11,
   "metadata": {
    "execution": {
     "iopub.execute_input": "2022-01-07T17:12:47.874527Z",
     "iopub.status.busy": "2022-01-07T17:12:47.873455Z",
     "iopub.status.idle": "2022-01-07T17:13:22.281612Z",
     "shell.execute_reply": "2022-01-07T17:13:22.282076Z",
     "shell.execute_reply.started": "2022-01-07T16:09:10.172775Z"
    },
    "papermill": {
     "duration": 34.513167,
     "end_time": "2022-01-07T17:13:22.282224",
     "exception": false,
     "start_time": "2022-01-07T17:12:47.769057",
     "status": "completed"
    },
    "tags": []
   },
   "outputs": [
    {
     "data": {
      "image/png": "[encoded data removed]",
      "text/plain": [
       "<Figure size 720x432 with 1 Axes>"
      ]
     },
     "metadata": {
      "needs_background": "light"
     },
     "output_type": "display_data"
    }
   ],
   "source": [
    "# Wordcloud of insincere questions\n",
    "insincere_questions = train_df.question_text[train_df['target'] == 1]\n",
    "insincere_sample = \" \".join(insincere_questions)\n",
    "insincere_word_freq = word_freq_dict(insincere_sample)\n",
    "insincere_word_freq = dict(list(insincere_word_freq.items()))\n",
    "wordcloud = WordCloud(width= 5000,\n",
    "    height=3000,\n",
    "    max_words=200,\n",
    "    colormap='Reds',\n",
    "    background_color='white')\n",
    "\n",
    "word_cloud_frequency(insincere_word_freq, \"Most Frequent Words insincere\")"
   ]
  },
  {
   "cell_type": "code",
   "execution_count": 12,
   "metadata": {
    "execution": {
     "iopub.execute_input": "2022-01-07T17:13:22.411544Z",
     "iopub.status.busy": "2022-01-07T17:13:22.410326Z",
     "iopub.status.idle": "2022-01-07T17:14:02.532831Z",
     "shell.execute_reply": "2022-01-07T17:14:02.533275Z",
     "shell.execute_reply.started": "2022-01-07T16:09:46.446958Z"
    },
    "papermill": {
     "duration": 40.190943,
     "end_time": "2022-01-07T17:14:02.533427",
     "exception": false,
     "start_time": "2022-01-07T17:13:22.342484",
     "status": "completed"
    },
    "tags": []
   },
   "outputs": [
    {
     "data": {
      "image/png": "[encoded data removed]",
      "text/plain": [
       "<Figure size 720x432 with 1 Axes>"
      ]
     },
     "metadata": {
      "needs_background": "light"
     },
     "output_type": "display_data"
    }
   ],
   "source": [
    "# Wordcloud of insincere questions\n",
    "insincere_questions = train_df.question_text[train_df['target'] == 0]\n",
    "insincere_sample = \" \".join(insincere_questions)\n",
    "insincere_word_freq = word_freq_dict(insincere_sample)\n",
    "insincere_word_freq = dict(list(insincere_word_freq.items()))\n",
    "wordcloud = WordCloud(width= 5000,\n",
    "    height=3000,\n",
    "    max_words=200,\n",
    "    colormap='Greens',\n",
    "    background_color='white')\n",
    "\n",
    "word_cloud_frequency(insincere_word_freq, \"Most Frequent Words sincere\")"
   ]
  },
  {
   "cell_type": "markdown",
   "metadata": {
    "papermill": {
     "duration": 0.065326,
     "end_time": "2022-01-07T17:14:02.664216",
     "exception": false,
     "start_time": "2022-01-07T17:14:02.598890",
     "status": "completed"
    },
    "tags": []
   },
   "source": [
    "**Kết luận:**\n",
    "\n",
    "Ta thấy đôi với các câu hỏi không chân thành các từ xuất hiện có thiên hướng tiêu cực, phân biệt và phản cảm ví dụ như: **muslims, sex, black, white ...**\n",
    "\n",
    "Đối với các câu hỏi chân thành các từ xuất hiện mang ý nghĩa tích cực, mang hàm ý là một câu hỏi hơn: **best, when, what, like ...**"
   ]
  },
  {
   "cell_type": "markdown",
   "metadata": {
    "papermill": {
     "duration": 0.065734,
     "end_time": "2022-01-07T17:14:02.796494",
     "exception": false,
     "start_time": "2022-01-07T17:14:02.730760",
     "status": "completed"
    },
    "tags": []
   },
   "source": [
    "# Tiền xử lí dữ liệu"
   ]
  },
  {
   "cell_type": "markdown",
   "metadata": {
    "papermill": {
     "duration": 0.069209,
     "end_time": "2022-01-07T17:14:02.932089",
     "exception": false,
     "start_time": "2022-01-07T17:14:02.862880",
     "status": "completed"
    },
    "tags": []
   },
   "source": [
    "## Load embedding vector"
   ]
  },
  {
   "cell_type": "markdown",
   "metadata": {
    "papermill": {
     "duration": 0.06922,
     "end_time": "2022-01-07T17:14:03.068014",
     "exception": false,
     "start_time": "2022-01-07T17:14:02.998794",
     "status": "completed"
    },
    "tags": []
   },
   "source": [
    "Dữ liệu ban đầu là dữ liệu thô chưa qua xử lí là dữ liệu mà mô hình không thể hiểu được vì vậy ta cần nhúng nó vào chiều không gian vector.\n",
    "\n",
    "Ở đây ta sẽ sử dụng bộ **embeddings** của **GoogleNews** được cuộc thi cung cấp là bộ embedding được Google huấn luyện bằng hai phương pháp **Word2Vec** là Cbow và Skipgram.\n",
    "\n",
    "![](https://www.samyzaf.com/ML/nlp/word2vec2.png)\n",
    "\n",
    "Các từ khi được nhúng vào chiều không gian vẫn sẽ giữ được quan hệ ngữ nghĩa giữa các từ với nhau"
   ]
  },
  {
   "cell_type": "code",
   "execution_count": 13,
   "metadata": {
    "execution": {
     "iopub.execute_input": "2022-01-07T17:14:03.204539Z",
     "iopub.status.busy": "2022-01-07T17:14:03.203918Z",
     "iopub.status.idle": "2022-01-07T17:15:19.672914Z",
     "shell.execute_reply": "2022-01-07T17:15:19.672430Z",
     "shell.execute_reply.started": "2022-01-07T16:10:26.111603Z"
    },
    "papermill": {
     "duration": 76.539321,
     "end_time": "2022-01-07T17:15:19.673048",
     "exception": false,
     "start_time": "2022-01-07T17:14:03.133727",
     "status": "completed"
    },
    "tags": []
   },
   "outputs": [],
   "source": [
    "# Giải nén và load embeddings\n",
    "zip_file = zipfile.ZipFile('/kaggle/input/quora-insincere-questions-classification/embeddings.zip', 'r')\n",
    "path=zip_file.open('GoogleNews-vectors-negative300/GoogleNews-vectors-negative300.bin', 'r')\n",
    "\n",
    "embeddings_index = KeyedVectors.load_word2vec_format(path, binary=True)"
   ]
  },
  {
   "cell_type": "markdown",
   "metadata": {
    "papermill": {
     "duration": 0.066592,
     "end_time": "2022-01-07T17:15:19.806069",
     "exception": false,
     "start_time": "2022-01-07T17:15:19.739477",
     "status": "completed"
    },
    "tags": []
   },
   "source": [
    "Sau khi load được bộ **embeddings**, chúng ta sẽ kiểm tra độ bao phủ của tập này trên dữ liệu.\n",
    "\n",
    "Sử dụng hàm `check_coverage` và từ điển tần suất như ở phần WordCloud"
   ]
  },
  {
   "cell_type": "code",
   "execution_count": 14,
   "metadata": {
    "execution": {
     "iopub.execute_input": "2022-01-07T17:15:19.943263Z",
     "iopub.status.busy": "2022-01-07T17:15:19.942597Z",
     "iopub.status.idle": "2022-01-07T17:15:19.945822Z",
     "shell.execute_reply": "2022-01-07T17:15:19.945334Z",
     "shell.execute_reply.started": "2022-01-07T16:11:41.537184Z"
    },
    "papermill": {
     "duration": 0.074079,
     "end_time": "2022-01-07T17:15:19.945936",
     "exception": false,
     "start_time": "2022-01-07T17:15:19.871857",
     "status": "completed"
    },
    "tags": []
   },
   "outputs": [],
   "source": [
    "# Hàm kiểm tra độ bao phủ embedding\n",
    "def check_coverage(vocab, embeddings_index):\n",
    "    embeddings_vocab = 0\n",
    "    embeddings_text = 0\n",
    "    oov_text = 0\n",
    "    oov = Counter()\n",
    "    \n",
    "    for word in vocab:\n",
    "        if word in embeddings_index:\n",
    "            embeddings_vocab += 1\n",
    "            embeddings_text += vocab[word]    \n",
    "        else:\n",
    "            oov[word] = vocab[word]\n",
    "            oov_text += vocab[word]\n",
    "\n",
    "    print('Embeddings coverage for {:.2%} of vocab'.format(embeddings_vocab / len(vocab)))\n",
    "    print('Embeddings coverage for {:.2%} of all text'.format(embeddings_text / (embeddings_text + oov_text)))\n",
    "    \n",
    "    return oov"
   ]
  },
  {
   "cell_type": "code",
   "execution_count": 15,
   "metadata": {
    "execution": {
     "iopub.execute_input": "2022-01-07T17:15:24.121112Z",
     "iopub.status.busy": "2022-01-07T17:15:21.492643Z",
     "iopub.status.idle": "2022-01-07T17:15:26.064847Z",
     "shell.execute_reply": "2022-01-07T17:15:26.065446Z",
     "shell.execute_reply.started": "2022-01-07T16:11:41.546474Z"
    },
    "papermill": {
     "duration": 6.054192,
     "end_time": "2022-01-07T17:15:26.065665",
     "exception": false,
     "start_time": "2022-01-07T17:15:20.011473",
     "status": "completed"
    },
    "tags": []
   },
   "outputs": [
    {
     "name": "stdout",
     "output_type": "stream",
     "text": [
      "Embeddings coverage for 24.31% of vocab\n",
      "Embeddings coverage for 78.75% of all text\n"
     ]
    }
   ],
   "source": [
    "## Kiểm tra độ bao phủ\n",
    "data = \" \".join(train_df.question_text)\n",
    "vocab = word_freq_dict(data)\n",
    "oov = check_coverage(vocab, embeddings_index)"
   ]
  },
  {
   "cell_type": "code",
   "execution_count": 16,
   "metadata": {
    "execution": {
     "iopub.execute_input": "2022-01-07T17:15:26.233162Z",
     "iopub.status.busy": "2022-01-07T17:15:26.204393Z",
     "iopub.status.idle": "2022-01-07T17:15:26.300262Z",
     "shell.execute_reply": "2022-01-07T17:15:26.300845Z",
     "shell.execute_reply.started": "2022-01-07T16:11:47.586420Z"
    },
    "papermill": {
     "duration": 0.167605,
     "end_time": "2022-01-07T17:15:26.301025",
     "exception": false,
     "start_time": "2022-01-07T17:15:26.133420",
     "status": "completed"
    },
    "tags": []
   },
   "outputs": [
    {
     "name": "stdout",
     "output_type": "stream",
     "text": [
      "Out of vocab\n"
     ]
    },
    {
     "data": {
      "text/plain": [
       "[('to', 403183),\n",
       " ('a', 402682),\n",
       " ('of', 330825),\n",
       " ('and', 251973),\n",
       " ('India?', 16384),\n",
       " ('it?', 12900),\n",
       " ('do?', 8753),\n",
       " ('life?', 7753),\n",
       " ('you?', 6295),\n",
       " ('me?', 6202),\n",
       " ('them?', 6140),\n",
       " ('time?', 5716),\n",
       " ('world?', 5386),\n",
       " ('people?', 4971),\n",
       " ('why?', 4943),\n",
       " ('Quora?', 4655),\n",
       " ('10', 4591),\n",
       " ('like?', 4487),\n",
       " ('for?', 4450),\n",
       " ('work?', 4206)]"
      ]
     },
     "execution_count": 16,
     "metadata": {},
     "output_type": "execute_result"
    }
   ],
   "source": [
    "## Hiển thị 20 từ OOV\n",
    "print('Out of vocab')\n",
    "oov.most_common(20)"
   ]
  },
  {
   "cell_type": "markdown",
   "metadata": {
    "papermill": {
     "duration": 0.065608,
     "end_time": "2022-01-07T17:15:26.433650",
     "exception": false,
     "start_time": "2022-01-07T17:15:26.368042",
     "status": "completed"
    },
    "tags": []
   },
   "source": [
    "**Vấn đề:**\n",
    "\n",
    "Độ bao phủ của tập embeddings đang rất thấp chỉ chiếm **24.31%** và **78.75%**\n",
    "\n",
    "Qua OOV ta có thể thấy các kí tự đặc biệt cụ thể là dấu hỏi đang lẫn vào các từ, các kí tự này không có quá nhiều ý nghĩa. \n",
    "\n",
    "=> Vì vậy ta sẽ loại bỏ chúng\n"
   ]
  },
  {
   "cell_type": "markdown",
   "metadata": {
    "papermill": {
     "duration": 0.06598,
     "end_time": "2022-01-07T17:15:26.568081",
     "exception": false,
     "start_time": "2022-01-07T17:15:26.502101",
     "status": "completed"
    },
    "tags": []
   },
   "source": [
    "## Loại bỏ kí tự đặc biệt và chuẩn hoá từ viết tắt"
   ]
  },
  {
   "cell_type": "markdown",
   "metadata": {
    "papermill": {
     "duration": 0.065587,
     "end_time": "2022-01-07T17:15:26.699880",
     "exception": false,
     "start_time": "2022-01-07T17:15:26.634293",
     "status": "completed"
    },
    "tags": []
   },
   "source": [
    "Ta sẽ xây dựng một list các kí tự đặc biệt và dấu tách câu từ string của python và sys.\n",
    "\n",
    "Đối với các kí tự nằm trong embedding ta sẽ cho nó nằm riêng rẽ ra, còn đối với kí tự không nằm trong embedding ta sẽ thay thế bằng dấu cách.\n",
    "\n",
    "Sử dụng hàm `remove_punct`"
   ]
  },
  {
   "cell_type": "code",
   "execution_count": 17,
   "metadata": {
    "execution": {
     "iopub.execute_input": "2022-01-07T17:15:26.856287Z",
     "iopub.status.busy": "2022-01-07T17:15:26.840815Z",
     "iopub.status.idle": "2022-01-07T17:15:27.290393Z",
     "shell.execute_reply": "2022-01-07T17:15:27.289927Z",
     "shell.execute_reply.started": "2022-01-07T16:11:47.688398Z"
    },
    "papermill": {
     "duration": 0.524593,
     "end_time": "2022-01-07T17:15:27.290519",
     "exception": false,
     "start_time": "2022-01-07T17:15:26.765926",
     "status": "completed"
    },
    "tags": []
   },
   "outputs": [],
   "source": [
    "# Xây dựng tập punctuations\n",
    "punctuation = [chr(i) for i in range(sys.maxunicode) if unicodedata.category(chr(i)).startswith('P')]\n",
    "for punct in string.punctuation:\n",
    "    if punct not in punctuation:\n",
    "        punctuation.append(punct)\n",
    "punctuation_in_embeddings = [punct for punct in punctuation if punct in embeddings_index]\n",
    "punctuation_not_in_embeddings = [punct for punct in punctuation if punct not in embeddings_index]\n",
    "\n",
    "# Loại bỏ punctuations khỏi text\n",
    "def remove_punct(sen):\n",
    "    for punct in punctuation_not_in_embeddings:\n",
    "        sen = sen.replace(punct, ' ')\n",
    "    for punct in punctuation_in_embeddings:\n",
    "        sen = sen.replace(punct, f' {punct} ')\n",
    "    return sen"
   ]
  },
  {
   "cell_type": "code",
   "execution_count": 18,
   "metadata": {
    "execution": {
     "iopub.execute_input": "2022-01-07T17:15:27.431006Z",
     "iopub.status.busy": "2022-01-07T17:15:27.430210Z",
     "iopub.status.idle": "2022-01-07T17:17:48.815344Z",
     "shell.execute_reply": "2022-01-07T17:17:48.814865Z",
     "shell.execute_reply.started": "2022-01-07T16:11:48.144175Z"
    },
    "papermill": {
     "duration": 141.458229,
     "end_time": "2022-01-07T17:17:48.815474",
     "exception": false,
     "start_time": "2022-01-07T17:15:27.357245",
     "status": "completed"
    },
    "tags": []
   },
   "outputs": [
    {
     "data": {
      "application/vnd.jupyter.widget-view+json": {
       "model_id": "ed8340cb5cd448c5900ca560a7fdbc09",
       "version_major": 2,
       "version_minor": 0
      },
      "text/plain": [
       "  0%|          | 0/1306122 [00:00<?, ?it/s]"
      ]
     },
     "metadata": {},
     "output_type": "display_data"
    },
    {
     "name": "stdout",
     "output_type": "stream",
     "text": [
      "Embeddings coverage for 60.58% of vocab\n",
      "Embeddings coverage for 90.14% of all text\n",
      "Out of vocab\n"
     ]
    },
    {
     "data": {
      "text/plain": [
       "[('to', 406419),\n",
       " ('a', 404740),\n",
       " ('of', 333011),\n",
       " ('and', 254186),\n",
       " ('2017', 8863),\n",
       " ('10', 7471),\n",
       " ('2018', 7415),\n",
       " ('12', 3863),\n",
       " ('100', 3122),\n",
       " ('20', 3048),\n",
       " ('15', 2682),\n",
       " ('12th', 2568),\n",
       " ('11', 2536),\n",
       " ('30', 2284),\n",
       " ('50', 2223),\n",
       " ('18', 2153),\n",
       " ('000', 2106),\n",
       " ('16', 1683),\n",
       " ('14', 1636),\n",
       " ('17', 1599)]"
      ]
     },
     "execution_count": 18,
     "metadata": {},
     "output_type": "execute_result"
    }
   ],
   "source": [
    "# Check độ bao phủ\n",
    "sentens = train_df['question_text'].progress_apply(lambda x: remove_punct(x))\n",
    "data = \" \".join(sentens)\n",
    "vocab = word_freq_dict(data)\n",
    "oov = check_coverage(vocab, embeddings_index)\n",
    "print('Out of vocab')\n",
    "oov.most_common(20)"
   ]
  },
  {
   "cell_type": "markdown",
   "metadata": {
    "papermill": {
     "duration": 0.066781,
     "end_time": "2022-01-07T17:17:48.951665",
     "exception": false,
     "start_time": "2022-01-07T17:17:48.884884",
     "status": "completed"
    },
    "tags": []
   },
   "source": [
    "Check lại độ bao phủ ta thấy:\n",
    "\n",
    "Độ bao phủ đã tăng lên đáng kể từ **24%** lên **60.58%**\n",
    "\n",
    "**Vấn đề:**\n",
    "\n",
    "Chúng ta thấy oov đang xuất hiện nhiều **kí tự số**"
   ]
  },
  {
   "cell_type": "markdown",
   "metadata": {
    "papermill": {
     "duration": 0.066694,
     "end_time": "2022-01-07T17:17:49.085556",
     "exception": false,
     "start_time": "2022-01-07T17:17:49.018862",
     "status": "completed"
    },
    "tags": []
   },
   "source": [
    "## Chuẩn hoá kí tự số"
   ]
  },
  {
   "cell_type": "code",
   "execution_count": 19,
   "metadata": {
    "execution": {
     "iopub.execute_input": "2022-01-07T17:17:49.226707Z",
     "iopub.status.busy": "2022-01-07T17:17:49.224740Z",
     "iopub.status.idle": "2022-01-07T17:17:49.228854Z",
     "shell.execute_reply": "2022-01-07T17:17:49.228277Z",
     "shell.execute_reply.started": "2022-01-07T16:14:13.097120Z"
    },
    "papermill": {
     "duration": 0.076486,
     "end_time": "2022-01-07T17:17:49.228971",
     "exception": false,
     "start_time": "2022-01-07T17:17:49.152485",
     "status": "completed"
    },
    "tags": []
   },
   "outputs": [
    {
     "name": "stdout",
     "output_type": "stream",
     "text": [
      "</s>\n",
      "in\n",
      "for\n",
      "that\n",
      "is\n",
      "on\n",
      "##\n",
      "The\n",
      "with\n",
      "said\n"
     ]
    }
   ],
   "source": [
    "## Kiểm tra top 10 từ xuất hiện nhiều nhất\n",
    "for i in range(10):\n",
    "    print(embeddings_index.index_to_key[i])"
   ]
  },
  {
   "cell_type": "code",
   "execution_count": 20,
   "metadata": {
    "execution": {
     "iopub.execute_input": "2022-01-07T17:17:49.369334Z",
     "iopub.status.busy": "2022-01-07T17:17:49.368755Z",
     "iopub.status.idle": "2022-01-07T17:17:49.371510Z",
     "shell.execute_reply": "2022-01-07T17:17:49.371942Z",
     "shell.execute_reply.started": "2022-01-07T16:14:13.105251Z"
    },
    "papermill": {
     "duration": 0.074825,
     "end_time": "2022-01-07T17:17:49.372078",
     "exception": false,
     "start_time": "2022-01-07T17:17:49.297253",
     "status": "completed"
    },
    "tags": []
   },
   "outputs": [
    {
     "name": "stdout",
     "output_type": "stream",
     "text": [
      "True\n",
      "False\n"
     ]
    }
   ],
   "source": [
    "## Kiểm tra kí tự số trong tập embedding\n",
    "print('1' in embeddings_index)\n",
    "print('22' in embeddings_index)"
   ]
  },
  {
   "cell_type": "markdown",
   "metadata": {
    "papermill": {
     "duration": 0.067772,
     "end_time": "2022-01-07T17:17:49.508629",
     "exception": false,
     "start_time": "2022-01-07T17:17:49.440857",
     "status": "completed"
    },
    "tags": []
   },
   "source": [
    "Khảo sát về kí tự số ta thấy rằng embeddings của GoogleNews sẽ thay thế các số có hai chữ số trở lên bằng kí **#** </br>\n",
    "Với **22** sẽ là **##**, **333** sẽ là **###** và tương tự \n",
    "\n",
    "Vì vậy ta sẽ định nghĩa hàm chuẩn hoá `standard_numbers` để chuẩn hoá lại các kí tự số\n"
   ]
  },
  {
   "cell_type": "code",
   "execution_count": 21,
   "metadata": {
    "execution": {
     "iopub.execute_input": "2022-01-07T17:17:49.649527Z",
     "iopub.status.busy": "2022-01-07T17:17:49.648713Z",
     "iopub.status.idle": "2022-01-07T17:17:49.650529Z",
     "shell.execute_reply": "2022-01-07T17:17:49.650958Z",
     "shell.execute_reply.started": "2022-01-07T16:14:13.118395Z"
    },
    "papermill": {
     "duration": 0.074589,
     "end_time": "2022-01-07T17:17:49.651090",
     "exception": false,
     "start_time": "2022-01-07T17:17:49.576501",
     "status": "completed"
    },
    "tags": []
   },
   "outputs": [],
   "source": [
    "# Hàm chuẩn hoá kí tự số\n",
    "def standard_numbers(x):\n",
    "    ## Sử dụng regex\n",
    "    x = re.sub('[0-9]{5,}', '#####', x)\n",
    "    x = re.sub('[0-9]{4}', '####', x)\n",
    "    x = re.sub('[0-9]{3}', '###', x)\n",
    "    x = re.sub('[0-9]{2}', '##', x)\n",
    "    return x"
   ]
  },
  {
   "cell_type": "code",
   "execution_count": 22,
   "metadata": {
    "execution": {
     "iopub.execute_input": "2022-01-07T17:17:49.796313Z",
     "iopub.status.busy": "2022-01-07T17:17:49.795536Z",
     "iopub.status.idle": "2022-01-07T17:18:14.922095Z",
     "shell.execute_reply": "2022-01-07T17:18:14.921581Z",
     "shell.execute_reply.started": "2022-01-07T16:14:13.127383Z"
    },
    "papermill": {
     "duration": 25.203789,
     "end_time": "2022-01-07T17:18:14.922227",
     "exception": false,
     "start_time": "2022-01-07T17:17:49.718438",
     "status": "completed"
    },
    "tags": []
   },
   "outputs": [
    {
     "data": {
      "application/vnd.jupyter.widget-view+json": {
       "model_id": "26be548327ff41129570332def193371",
       "version_major": 2,
       "version_minor": 0
      },
      "text/plain": [
       "  0%|          | 0/1306122 [00:00<?, ?it/s]"
      ]
     },
     "metadata": {},
     "output_type": "display_data"
    },
    {
     "name": "stdout",
     "output_type": "stream",
     "text": [
      "Embeddings coverage for 63.30% of vocab\n",
      "Embeddings coverage for 90.90% of all text\n",
      "Out of vocab\n"
     ]
    },
    {
     "data": {
      "text/plain": [
       "[('to', 406419),\n",
       " ('a', 404740),\n",
       " ('of', 333011),\n",
       " ('and', 254186),\n",
       " ('favourite', 1247),\n",
       " ('bitcoin', 991),\n",
       " ('colour', 978),\n",
       " ('centre', 889),\n",
       " ('Quorans', 856),\n",
       " ('cryptocurrency', 821),\n",
       " ('Snapchat', 809),\n",
       " ('travelling', 705),\n",
       " ('counselling', 634),\n",
       " ('Brexit', 493),\n",
       " ('btech', 485),\n",
       " ('cryptocurrencies', 481),\n",
       " ('blockchain', 481),\n",
       " ('behaviour', 470),\n",
       " ('upvotes', 432),\n",
       " ('programme', 403)]"
      ]
     },
     "execution_count": 22,
     "metadata": {},
     "output_type": "execute_result"
    }
   ],
   "source": [
    "# Check độ bao phủ\n",
    "\n",
    "sentens = sentens.progress_apply(lambda x: standard_numbers(x))\n",
    "data = \" \".join(sentens)\n",
    "vocab = word_freq_dict(data)\n",
    "oov = check_coverage(vocab, embeddings_index)\n",
    "print('Out of vocab')\n",
    "oov.most_common(20)"
   ]
  },
  {
   "cell_type": "markdown",
   "metadata": {
    "papermill": {
     "duration": 0.068736,
     "end_time": "2022-01-07T17:18:15.060122",
     "exception": false,
     "start_time": "2022-01-07T17:18:14.991386",
     "status": "completed"
    },
    "tags": []
   },
   "source": [
    "Check lại độ bao phủ ta thấy:\n",
    "\n",
    "Độ bao phủ đã tăng lên **63.30%**\n",
    "\n",
    "**Vấn đề:**\n",
    "\n",
    "Chúng ta thấy oov đang xuất hiện nhiều lỗi ngữ pháp và các từ mới."
   ]
  },
  {
   "cell_type": "markdown",
   "metadata": {
    "papermill": {
     "duration": 0.069107,
     "end_time": "2022-01-07T17:18:15.199089",
     "exception": false,
     "start_time": "2022-01-07T17:18:15.129982",
     "status": "completed"
    },
    "tags": []
   },
   "source": [
    "## Xử lí ngữ pháp và các từ mới"
   ]
  },
  {
   "cell_type": "markdown",
   "metadata": {
    "papermill": {
     "duration": 0.068204,
     "end_time": "2022-01-07T17:18:15.336246",
     "exception": false,
     "start_time": "2022-01-07T17:18:15.268042",
     "status": "completed"
    },
    "tags": []
   },
   "source": [
    "Ta sẽ chuẩn hoá lại về ngữ pháp cùng một số từ mới:\n",
    "* Ngữ pháp Anh-Anh về Anh-Mỹ như **labour** thành **labor**\n",
    "* Từ mới **Ethereum** thành **crypto**\n",
    "* Các từ viết tắt **INTJ** thành **Introversion Intuition Thinking Judgment**\n",
    "\n",
    "Định nghĩa hàm `correct_spelling` để xử lí việc này\n",
    "\n",
    "Bên cạnh đó ta sẽ định nghĩa hàm `replace_useless` để loại bỏ các kí tự **a, of** đang xuất hiện nhiều nhưng không quá nhiều ý nghĩa"
   ]
  },
  {
   "cell_type": "code",
   "execution_count": 23,
   "metadata": {
    "execution": {
     "iopub.execute_input": "2022-01-07T17:18:15.485276Z",
     "iopub.status.busy": "2022-01-07T17:18:15.484173Z",
     "iopub.status.idle": "2022-01-07T17:18:15.485968Z",
     "shell.execute_reply": "2022-01-07T17:18:15.486445Z",
     "shell.execute_reply.started": "2022-01-07T16:14:38.502467Z"
    },
    "papermill": {
     "duration": 0.081653,
     "end_time": "2022-01-07T17:18:15.486572",
     "exception": false,
     "start_time": "2022-01-07T17:18:15.404919",
     "status": "completed"
    },
    "tags": []
   },
   "outputs": [],
   "source": [
    "# Từ điển mispell\n",
    "mispell_dict = {\n",
    "    'grey': 'gray',\n",
    "    'litre': 'liter',\n",
    "    'labour': 'labor',\n",
    "    'travelling':'traveling',\n",
    "    'favour': 'favor',\n",
    "    'colour': 'color',\n",
    "    'centre': 'center',\n",
    "    'honours': 'honor',\n",
    "    'theatre': 'theater',\n",
    "    'realise': 'realize',\n",
    "    'defence': 'defense',\n",
    "    'licence': 'license',\n",
    "    'analyse': 'analyze',\n",
    "    'practise': 'practice',\n",
    "    'behaviour': 'behavior',\n",
    "    'neighbour': 'neighbor',\n",
    "    'recognise': 'recognize',\n",
    "    'organisation':'organization',  \n",
    "    'Qoura': 'Quora',\n",
    "    'quora': 'Quora',\n",
    "    'Quorans': 'Quoran',\n",
    "    'infty': 'infinity',\n",
    "    'judgement': 'judge',   \n",
    "    'isnt': 'is not',\n",
    "    'didnt': 'did not',\n",
    "    'Whatis': 'what is',\n",
    "    'doesnt': 'does not',  \n",
    "    'learnt': 'learn',\n",
    "    'modelling': 'model',\n",
    "    'cancelled': 'cancel',\n",
    "    'travelled': 'travell',\n",
    "    'travelling': 'travel',\n",
    "    'aluminium': 'alumini',\n",
    "    'counselling':'counseling',\n",
    "    '₹': 'rupee',\n",
    "    'Brexit': 'Britain exit',\n",
    "    'Paytm': 'Pay Through Mobile',\n",
    "    'KVPY': 'Kishore Vaigyanik Protsahan Yojana',\n",
    "    'GDPR': 'General Data Protection Regulation',\n",
    "    'INTJ': 'Introversion Intuition Thinking Judgment',   \n",
    "    'cheque': 'bill',\n",
    "    'upvote': 'agree',\n",
    "    'upvotes': 'agree',\n",
    "    'vape': 'cigarette',\n",
    "    'jewellery': 'jewell',\n",
    "    'Fiverr': 'freelance',\n",
    "    'programd': 'program',\n",
    "    'programme': 'program',\n",
    "    'programr': 'programer',\n",
    "    'programrs': 'programer',\n",
    "    'WeChat': 'socialmedia',\n",
    "    'Snapchat': 'socialmedia',\n",
    "    'Redmi': 'cellphone',\n",
    "    'Xiaomi': 'cellphone',\n",
    "    'OnePlus': 'cellphone',\n",
    "    'cryptos': 'crypto',\n",
    "    'bitcoin': 'crypto',\n",
    "    'Coinbase': 'crypto',\n",
    "    'bitcoins': 'crypto',\n",
    "    'ethereum': 'crypto',\n",
    "    'Ethereum': 'crypto',\n",
    "    'Blockchain': 'crypto',\n",
    "    'blockchain': 'crypto',\n",
    "    'cryptocurrency': 'crypto',\n",
    "    'cryptocurrencies': 'crypto',\n",
    "}\n",
    "## Chuẩn hoá ngữ pháp và từ mới\n",
    "def correct_spelling(sen):\n",
    "    for word in mispell_dict.keys():\n",
    "        sen = sen.replace(word, mispell_dict[word])\n",
    "    return sen"
   ]
  },
  {
   "cell_type": "code",
   "execution_count": 24,
   "metadata": {
    "execution": {
     "iopub.execute_input": "2022-01-07T17:18:15.629351Z",
     "iopub.status.busy": "2022-01-07T17:18:15.628557Z",
     "iopub.status.idle": "2022-01-07T17:18:15.631035Z",
     "shell.execute_reply": "2022-01-07T17:18:15.630603Z",
     "shell.execute_reply.started": "2022-01-07T16:14:38.524286Z"
    },
    "papermill": {
     "duration": 0.075618,
     "end_time": "2022-01-07T17:18:15.631145",
     "exception": false,
     "start_time": "2022-01-07T17:18:15.555527",
     "status": "completed"
    },
    "tags": []
   },
   "outputs": [],
   "source": [
    "## Xoá bỏ a, to, of\n",
    "def replace_useless(sen):\n",
    "    text_list = sen.split()\n",
    "    text_list = [text for text in text_list if text not in ['a', 'to', 'of', 'and']]\n",
    "    return \" \".join(text_list)"
   ]
  },
  {
   "cell_type": "code",
   "execution_count": 25,
   "metadata": {
    "execution": {
     "iopub.execute_input": "2022-01-07T17:18:15.797934Z",
     "iopub.status.busy": "2022-01-07T17:18:15.796789Z",
     "iopub.status.idle": "2022-01-07T17:18:51.367270Z",
     "shell.execute_reply": "2022-01-07T17:18:51.366448Z",
     "shell.execute_reply.started": "2022-01-07T16:14:38.539076Z"
    },
    "papermill": {
     "duration": 35.667463,
     "end_time": "2022-01-07T17:18:51.367403",
     "exception": false,
     "start_time": "2022-01-07T17:18:15.699940",
     "status": "completed"
    },
    "tags": []
   },
   "outputs": [
    {
     "data": {
      "application/vnd.jupyter.widget-view+json": {
       "model_id": "4dbf039802664e7181e6ee143c42c83b",
       "version_major": 2,
       "version_minor": 0
      },
      "text/plain": [
       "  0%|          | 0/1306122 [00:00<?, ?it/s]"
      ]
     },
     "metadata": {},
     "output_type": "display_data"
    },
    {
     "data": {
      "application/vnd.jupyter.widget-view+json": {
       "model_id": "e76aa6d0e1cc496d9fef93a054fcb3de",
       "version_major": 2,
       "version_minor": 0
      },
      "text/plain": [
       "  0%|          | 0/1306122 [00:00<?, ?it/s]"
      ]
     },
     "metadata": {},
     "output_type": "display_data"
    },
    {
     "name": "stdout",
     "output_type": "stream",
     "text": [
      "Embeddings coverage for 63.33% of vocab\n",
      "Embeddings coverage for 99.15% of all text\n",
      "Out of vocab\n"
     ]
    },
    {
     "data": {
      "text/plain": [
       "[('btech', 485),\n",
       " ('Vaigyanik', 349),\n",
       " ('cryptos', 277),\n",
       " ('mtech', 219),\n",
       " ('Pinterest', 162),\n",
       " ('INFJ', 159),\n",
       " ('aadhar', 151),\n",
       " ('Btech', 150),\n",
       " ('Coursera', 138),\n",
       " ('Fortnite', 130),\n",
       " ('Lyft', 125),\n",
       " ('UCEED', 123),\n",
       " ('AFCAT', 122),\n",
       " ('bcom', 119),\n",
       " ('INFP', 113),\n",
       " ('displaystyle', 111),\n",
       " ('demonetisation', 106),\n",
       " ('UPSEE', 105),\n",
       " ('##°', 102),\n",
       " ('Machedo', 99)]"
      ]
     },
     "execution_count": 25,
     "metadata": {},
     "output_type": "execute_result"
    }
   ],
   "source": [
    "# Check độ bao phủ\n",
    "\n",
    "sentens = sentens.progress_apply(lambda x: correct_spelling(x))\n",
    "sentens = sentens.progress_apply(lambda x: replace_useless(x))\n",
    "\n",
    "data = \" \".join(sentens)\n",
    "vocab = word_freq_dict(data)\n",
    "oov = check_coverage(vocab, embeddings_index)\n",
    "print('Out of vocab')\n",
    "oov.most_common(20)"
   ]
  },
  {
   "cell_type": "markdown",
   "metadata": {
    "papermill": {
     "duration": 0.071151,
     "end_time": "2022-01-07T17:18:51.516441",
     "exception": false,
     "start_time": "2022-01-07T17:18:51.445290",
     "status": "completed"
    },
    "tags": []
   },
   "source": [
    "Độ bao phủ đã tăng lên **63.33%** và **99,15%** so với toàn bộ dữ liệu\n",
    "\n",
    "=> Ta sẽ sử dụng các phương pháp này để làm sạch dữ liệu"
   ]
  },
  {
   "cell_type": "markdown",
   "metadata": {
    "papermill": {
     "duration": 0.071018,
     "end_time": "2022-01-07T17:18:51.658794",
     "exception": false,
     "start_time": "2022-01-07T17:18:51.587776",
     "status": "completed"
    },
    "tags": []
   },
   "source": [
    "## Tổng hợp hàm tiền xử lí dữ liệu"
   ]
  },
  {
   "cell_type": "markdown",
   "metadata": {
    "papermill": {
     "duration": 0.070608,
     "end_time": "2022-01-07T17:18:51.800392",
     "exception": false,
     "start_time": "2022-01-07T17:18:51.729784",
     "status": "completed"
    },
    "tags": []
   },
   "source": [
    "Ta sẽ tổng hợp lại các phương pháp trên trong hàm `data_cleaning` để xử lí dữ liệu "
   ]
  },
  {
   "cell_type": "code",
   "execution_count": 26,
   "metadata": {
    "execution": {
     "iopub.execute_input": "2022-01-07T17:18:51.954168Z",
     "iopub.status.busy": "2022-01-07T17:18:51.953156Z",
     "iopub.status.idle": "2022-01-07T17:18:51.955037Z",
     "shell.execute_reply": "2022-01-07T17:18:51.955594Z",
     "shell.execute_reply.started": "2022-01-07T16:15:14.866935Z"
    },
    "papermill": {
     "duration": 0.084856,
     "end_time": "2022-01-07T17:18:51.955755",
     "exception": false,
     "start_time": "2022-01-07T17:18:51.870899",
     "status": "completed"
    },
    "tags": []
   },
   "outputs": [],
   "source": [
    "## Tổng hợp lại clean data\n",
    "def data_cleaning(sen):\n",
    "  sen = remove_punct(sen)\n",
    "  sen = standard_numbers(sen)\n",
    "  sen = correct_spelling(sen)\n",
    "  sen = replace_useless(sen)\n",
    "\n",
    "  return sen"
   ]
  },
  {
   "cell_type": "code",
   "execution_count": 27,
   "metadata": {
    "execution": {
     "iopub.execute_input": "2022-01-07T17:18:52.129856Z",
     "iopub.status.busy": "2022-01-07T17:18:52.109436Z",
     "iopub.status.idle": "2022-01-07T17:22:48.320156Z",
     "shell.execute_reply": "2022-01-07T17:22:48.319729Z",
     "shell.execute_reply.started": "2022-01-07T16:15:14.873817Z"
    },
    "papermill": {
     "duration": 236.284746,
     "end_time": "2022-01-07T17:22:48.320296",
     "exception": false,
     "start_time": "2022-01-07T17:18:52.035550",
     "status": "completed"
    },
    "tags": []
   },
   "outputs": [
    {
     "data": {
      "application/vnd.jupyter.widget-view+json": {
       "model_id": "41a899a1cf43401c99b91c776ea4c5f8",
       "version_major": 2,
       "version_minor": 0
      },
      "text/plain": [
       "  0%|          | 0/1306122 [00:00<?, ?it/s]"
      ]
     },
     "metadata": {},
     "output_type": "display_data"
    },
    {
     "data": {
      "application/vnd.jupyter.widget-view+json": {
       "model_id": "54af73718fcc44c5946ebb3ba617cea9",
       "version_major": 2,
       "version_minor": 0
      },
      "text/plain": [
       "  0%|          | 0/375806 [00:00<?, ?it/s]"
      ]
     },
     "metadata": {},
     "output_type": "display_data"
    }
   ],
   "source": [
    "## Clean dữ liệu\n",
    "train_df['question_text_cleaned'] = train_df['question_text'].progress_apply(lambda x: data_cleaning(x))\n",
    "test_df['question_text_cleaned'] = test_df['question_text'].progress_apply(lambda x: data_cleaning(x))"
   ]
  },
  {
   "cell_type": "code",
   "execution_count": 28,
   "metadata": {
    "execution": {
     "iopub.execute_input": "2022-01-07T17:22:48.682216Z",
     "iopub.status.busy": "2022-01-07T17:22:48.679255Z",
     "iopub.status.idle": "2022-01-07T17:22:48.686595Z",
     "shell.execute_reply": "2022-01-07T17:22:48.686177Z",
     "shell.execute_reply.started": "2022-01-07T16:19:14.905170Z"
    },
    "papermill": {
     "duration": 0.292873,
     "end_time": "2022-01-07T17:22:48.686754",
     "exception": false,
     "start_time": "2022-01-07T17:22:48.393881",
     "status": "completed"
    },
    "tags": []
   },
   "outputs": [
    {
     "data": {
      "text/plain": [
       "5665"
      ]
     },
     "execution_count": 28,
     "metadata": {},
     "output_type": "execute_result"
    }
   ],
   "source": [
    "## Xoá các biến không dùng đến\n",
    "del oov, sentens\n",
    "gc.collect()"
   ]
  },
  {
   "cell_type": "markdown",
   "metadata": {
    "papermill": {
     "duration": 0.071191,
     "end_time": "2022-01-07T17:22:48.829350",
     "exception": false,
     "start_time": "2022-01-07T17:22:48.758159",
     "status": "completed"
    },
    "tags": []
   },
   "source": [
    "# Data Generator"
   ]
  },
  {
   "cell_type": "markdown",
   "metadata": {
    "papermill": {
     "duration": 0.070834,
     "end_time": "2022-01-07T17:22:48.971429",
     "exception": false,
     "start_time": "2022-01-07T17:22:48.900595",
     "status": "completed"
    },
    "tags": []
   },
   "source": [
    "Ta chia tập dữ liệu thành hai tập dữ liệu **train** và **validation**\n",
    "\n",
    "Với tập train tác dụng tìm tham số cho mô hình\n",
    "\n",
    "Với tập validation giúp tìm siêu tham số, độ phức tạp cho mô hình tránh mô hình bị **overfitting**\n",
    "\n",
    "Thêm vào đó dữ liệu này là dữ liệu bị lệch nên ta sẽ chia mẫu phân tầng **stratify** đảm bảo tỉ lệ giữa hai nhãn trong hai tập là như nhau"
   ]
  },
  {
   "cell_type": "code",
   "execution_count": 29,
   "metadata": {
    "execution": {
     "iopub.execute_input": "2022-01-07T17:22:49.122830Z",
     "iopub.status.busy": "2022-01-07T17:22:49.121644Z",
     "iopub.status.idle": "2022-01-07T17:22:50.651783Z",
     "shell.execute_reply": "2022-01-07T17:22:50.652198Z",
     "shell.execute_reply.started": "2022-01-07T16:19:15.135768Z"
    },
    "papermill": {
     "duration": 1.607765,
     "end_time": "2022-01-07T17:22:50.652364",
     "exception": false,
     "start_time": "2022-01-07T17:22:49.044599",
     "status": "completed"
    },
    "tags": []
   },
   "outputs": [],
   "source": [
    "## Chia tập dữ liệu\n",
    "train_df, val_df = train_test_split(train_df, test_size = 0.1, stratify = train_df['target'], random_state = 42)"
   ]
  },
  {
   "cell_type": "code",
   "execution_count": 30,
   "metadata": {
    "execution": {
     "iopub.execute_input": "2022-01-07T17:22:50.809887Z",
     "iopub.status.busy": "2022-01-07T17:22:50.806148Z",
     "iopub.status.idle": "2022-01-07T17:22:50.814657Z",
     "shell.execute_reply": "2022-01-07T17:22:50.814223Z",
     "shell.execute_reply.started": "2022-01-07T16:19:16.283363Z"
    },
    "papermill": {
     "duration": 0.089474,
     "end_time": "2022-01-07T17:22:50.814791",
     "exception": false,
     "start_time": "2022-01-07T17:22:50.725317",
     "status": "completed"
    },
    "tags": []
   },
   "outputs": [
    {
     "name": "stdout",
     "output_type": "stream",
     "text": [
      "(1175509, 4)\n",
      "0    1102780\n",
      "1      72729\n",
      "Name: target, dtype: int64\n",
      "(130613, 4)\n",
      "0    122532\n",
      "1      8081\n",
      "Name: target, dtype: int64\n"
     ]
    }
   ],
   "source": [
    "## Hiển thị phân bố nhãn trong hai tập\n",
    "print(train_df.shape)\n",
    "print(train_df['target'].value_counts())\n",
    "print(val_df.shape)\n",
    "print(val_df['target'].value_counts())"
   ]
  },
  {
   "cell_type": "markdown",
   "metadata": {
    "papermill": {
     "duration": 0.071327,
     "end_time": "2022-01-07T17:22:50.960170",
     "exception": false,
     "start_time": "2022-01-07T17:22:50.888843",
     "status": "completed"
    },
    "tags": []
   },
   "source": [
    "**Vấn đề:** \n",
    "Do bộ dữ liệu quá lớn ta sẽ tạo hàm generator để sinh dữ liệu theo batch. Điều này giúp cho quá trình train không bị tốn bộ nhớ.\n",
    "\n",
    "Ở mỗi batch sẽ trả về cho model 2 thông tin đó là tập embedding câu và tập nhãn tương ứng\n",
    "\n",
    "Ta sử dụng hàm `text_to_array` để sinh ra bộ ma trận em bedding của một batch các câu với SEQ_LEN = 30, EMBED_DIM = 300 chính là chiều vector của **GoogleNews**\n",
    "\n",
    "Hàm `batch_train_gen` để sinh các batch với batch-size là 128 là hàm mũ của hai giúp tận dụng khả năng tính toán song song"
   ]
  },
  {
   "cell_type": "code",
   "execution_count": 31,
   "metadata": {
    "execution": {
     "iopub.execute_input": "2022-01-07T17:22:51.113085Z",
     "iopub.status.busy": "2022-01-07T17:22:51.112348Z",
     "iopub.status.idle": "2022-01-07T17:22:51.114312Z",
     "shell.execute_reply": "2022-01-07T17:22:51.114695Z",
     "shell.execute_reply.started": "2022-01-07T16:19:16.300496Z"
    },
    "papermill": {
     "duration": 0.081257,
     "end_time": "2022-01-07T17:22:51.114847",
     "exception": false,
     "start_time": "2022-01-07T17:22:51.033590",
     "status": "completed"
    },
    "tags": []
   },
   "outputs": [],
   "source": [
    "SEQ_LEN = 30\n",
    "batch_size = 128\n",
    "EMB_SIZE = 300\n",
    "\n",
    "# Hàm chuyển text thành vector embedding\n",
    "def text_to_array(sen):\n",
    "    empyt_emb = np.zeros(EMB_SIZE)\n",
    "    sen = sen[:-1].split()[:SEQ_LEN]\n",
    "    embeds = [embeddings_index[x] for x in sen if x in embeddings_index]\n",
    "    embeds+= [empyt_emb] * (SEQ_LEN - len(embeds))\n",
    "    return np.array(embeds)\n",
    "\n",
    "# Hàm sinh dữ liệu\n",
    "def batch_train_gen(train_df):\n",
    "    n_batches = math.ceil(len(train_df) / batch_size)\n",
    "    while True: \n",
    "        train_df = train_df.sample(frac=1.) \n",
    "        for i in range(n_batches):\n",
    "            texts = train_df.iloc[i * batch_size: (i + 1) * batch_size, -1]\n",
    "            text_arr = np.array([text_to_array(text) for text in texts])\n",
    "            yield text_arr, np.array(train_df[\"target\"][i * batch_size:(i + 1) * batch_size])"
   ]
  },
  {
   "cell_type": "code",
   "execution_count": 32,
   "metadata": {
    "execution": {
     "iopub.execute_input": "2022-01-07T17:22:51.262222Z",
     "iopub.status.busy": "2022-01-07T17:22:51.261449Z",
     "iopub.status.idle": "2022-01-07T17:22:51.263391Z",
     "shell.execute_reply": "2022-01-07T17:22:51.263824Z",
     "shell.execute_reply.started": "2022-01-07T16:19:16.313140Z"
    },
    "papermill": {
     "duration": 0.077598,
     "end_time": "2022-01-07T17:22:51.263956",
     "exception": false,
     "start_time": "2022-01-07T17:22:51.186358",
     "status": "completed"
    },
    "tags": []
   },
   "outputs": [],
   "source": [
    "# train_gen = batch_train_gen(train_df)\n",
    "# val_gen = batch_val_gen(val_df)"
   ]
  },
  {
   "cell_type": "code",
   "execution_count": 33,
   "metadata": {
    "execution": {
     "iopub.execute_input": "2022-01-07T17:22:51.412880Z",
     "iopub.status.busy": "2022-01-07T17:22:51.412039Z",
     "iopub.status.idle": "2022-01-07T17:22:52.662930Z",
     "shell.execute_reply": "2022-01-07T17:22:52.663477Z",
     "shell.execute_reply.started": "2022-01-07T16:19:16.325756Z"
    },
    "papermill": {
     "duration": 1.328817,
     "end_time": "2022-01-07T17:22:52.663658",
     "exception": false,
     "start_time": "2022-01-07T17:22:51.334841",
     "status": "completed"
    },
    "tags": []
   },
   "outputs": [
    {
     "name": "stderr",
     "output_type": "stream",
     "text": [
      "100%|██████████| 10000/10000 [00:00<00:00, 10288.68it/s]\n"
     ]
    }
   ],
   "source": [
    "## Khai báo hàm sinh dữ liệu\n",
    "train_gen = batch_train_gen(train_df)\n",
    "val_size = 10000\n",
    "val_vects = np.array([text_to_array(X_text) for X_text in tqdm(val_df[\"question_text_cleaned\"][:val_size],position=0)], dtype=float)\n",
    "val_y = np.array(val_df[\"target\"][:val_size], dtype='int32')\n",
    "validation_data=(val_vects, val_y)"
   ]
  },
  {
   "cell_type": "code",
   "execution_count": 34,
   "metadata": {
    "execution": {
     "iopub.execute_input": "2022-01-07T17:22:52.973095Z",
     "iopub.status.busy": "2022-01-07T17:22:52.968942Z",
     "iopub.status.idle": "2022-01-07T17:22:53.510233Z",
     "shell.execute_reply": "2022-01-07T17:22:53.511236Z",
     "shell.execute_reply.started": "2022-01-07T16:19:17.543256Z"
    },
    "papermill": {
     "duration": 0.718949,
     "end_time": "2022-01-07T17:22:53.511456",
     "exception": false,
     "start_time": "2022-01-07T17:22:52.792507",
     "status": "completed"
    },
    "tags": []
   },
   "outputs": [
    {
     "data": {
      "text/plain": [
       "(128, 30, 300)"
      ]
     },
     "execution_count": 34,
     "metadata": {},
     "output_type": "execute_result"
    }
   ],
   "source": [
    "## Kiểm tra định dạng\n",
    "next(iter(train_gen))[0].shape"
   ]
  },
  {
   "cell_type": "markdown",
   "metadata": {
    "papermill": {
     "duration": 0.0898,
     "end_time": "2022-01-07T17:22:53.732919",
     "exception": false,
     "start_time": "2022-01-07T17:22:53.643119",
     "status": "completed"
    },
    "tags": []
   },
   "source": [
    "# Mô hình "
   ]
  },
  {
   "cell_type": "code",
   "execution_count": 35,
   "metadata": {
    "execution": {
     "iopub.execute_input": "2022-01-07T17:22:53.888864Z",
     "iopub.status.busy": "2022-01-07T17:22:53.888216Z",
     "iopub.status.idle": "2022-01-07T17:22:59.135323Z",
     "shell.execute_reply": "2022-01-07T17:22:59.135774Z",
     "shell.execute_reply.started": "2022-01-07T16:19:17.924239Z"
    },
    "papermill": {
     "duration": 5.326479,
     "end_time": "2022-01-07T17:22:59.135948",
     "exception": false,
     "start_time": "2022-01-07T17:22:53.809469",
     "status": "completed"
    },
    "tags": []
   },
   "outputs": [],
   "source": [
    "from keras.models import Sequential,Model\n",
    "from keras.layers import CuDNNLSTM, Dense, Bidirectional, Input,Dropout, LSTM\n",
    "from keras import backend as K\n",
    "from tensorflow.keras.callbacks import EarlyStopping, ModelCheckpoint, ReduceLROnPlateau"
   ]
  },
  {
   "cell_type": "code",
   "execution_count": 36,
   "metadata": {
    "execution": {
     "iopub.execute_input": "2022-01-07T17:22:59.292838Z",
     "iopub.status.busy": "2022-01-07T17:22:59.287419Z",
     "iopub.status.idle": "2022-01-07T17:22:59.294797Z",
     "shell.execute_reply": "2022-01-07T17:22:59.295166Z",
     "shell.execute_reply.started": "2022-01-07T16:19:24.665613Z"
    },
    "papermill": {
     "duration": 0.084638,
     "end_time": "2022-01-07T17:22:59.295309",
     "exception": false,
     "start_time": "2022-01-07T17:22:59.210671",
     "status": "completed"
    },
    "tags": []
   },
   "outputs": [],
   "source": [
    "# Hàm hiển thị history\n",
    "def plot_his(history):\n",
    "    # plot history for loss\n",
    "    plt.figure(figsize=(15, 5)).add_subplot(1, 3, 1)\n",
    "    plt.plot(history.history['loss'])\n",
    "    plt.plot(history.history['val_loss'])\n",
    "    plt.title('model loss')\n",
    "    plt.ylabel('loss')\n",
    "    plt.xlabel('epoch')\n",
    "    plt.legend(['train', 'val'], loc='upper left')\n",
    "\n",
    "    # plot history for accuracy\n",
    "    plt.figure(figsize=(15, 5)).add_subplot(1, 3, 2)\n",
    "    plt.plot(history.history['accuracy'])\n",
    "    plt.plot(history.history['val_accuracy'])\n",
    "    plt.title('model accuracy')\n",
    "    plt.ylabel('accuracy')\n",
    "    plt.xlabel('epoch')\n",
    "    plt.legend(['train', 'val'], loc='upper left')\n",
    "    plt.show()"
   ]
  },
  {
   "cell_type": "markdown",
   "metadata": {
    "papermill": {
     "duration": 0.073537,
     "end_time": "2022-01-07T17:22:59.443328",
     "exception": false,
     "start_time": "2022-01-07T17:22:59.369791",
     "status": "completed"
    },
    "tags": []
   },
   "source": [
    "Ở đây ta sẽ thử nghiệm hai mô hình đó **LSTM** và **BiLSTM**\n",
    "\n",
    "LSTM là biến thể của RNN là mô hình xử lí dữ liệu dạng chuỗi. \n",
    "\n",
    "Tuy nhiên RNN có hai nhược điểm đó là **vanishing gradient** và hạn chế trong việc **lưu trữ thông tin** giữa các từ xa nhau trong câu.\n",
    "\n",
    "LSTM ra đời để hạn chế những hạn chế này của RNN.\n",
    "\n",
    "![](https://i.stack.imgur.com/aTDpS.png)\n",
    "\n",
    "Bao gồm hidden state **h(t)** chứa thông tin short-term và cell state **c(t)** chứa thông tin long-term\n",
    "\n",
    "Với mỗi h(t) sẽ gồm ba cổng làm nhiệm vụ quản lí thông tin:\n",
    "* Forget gate f(t): kiểm soát thông tin nên quên và giữ từ cell state trước đó\n",
    "* Input gate i(t): kiểm soát chọn lọc những thông tin mới để ghi vào cell state hiện tại\n",
    "* Output gate o(t): Xác định thông tin nào từ cell state hiện tại để truyền tới các hidden state tiếp theo"
   ]
  },
  {
   "cell_type": "markdown",
   "metadata": {
    "papermill": {
     "duration": 0.073893,
     "end_time": "2022-01-07T17:22:59.590808",
     "exception": false,
     "start_time": "2022-01-07T17:22:59.516915",
     "status": "completed"
    },
    "tags": []
   },
   "source": [
    "## LSTM"
   ]
  },
  {
   "cell_type": "code",
   "execution_count": 37,
   "metadata": {
    "execution": {
     "iopub.execute_input": "2022-01-07T17:22:59.743957Z",
     "iopub.status.busy": "2022-01-07T17:22:59.743400Z",
     "iopub.status.idle": "2022-01-07T17:23:02.576868Z",
     "shell.execute_reply": "2022-01-07T17:23:02.577469Z",
     "shell.execute_reply.started": "2022-01-07T16:19:22.424551Z"
    },
    "papermill": {
     "duration": 2.913024,
     "end_time": "2022-01-07T17:23:02.577680",
     "exception": false,
     "start_time": "2022-01-07T17:22:59.664656",
     "status": "completed"
    },
    "tags": []
   },
   "outputs": [
    {
     "name": "stderr",
     "output_type": "stream",
     "text": [
      "2022-01-07 17:22:59.813438: I tensorflow/stream_executor/cuda/cuda_gpu_executor.cc:937] successful NUMA node read from SysFS had negative value (-1), but there must be at least one NUMA node, so returning NUMA node zero\n",
      "2022-01-07 17:22:59.964441: I tensorflow/stream_executor/cuda/cuda_gpu_executor.cc:937] successful NUMA node read from SysFS had negative value (-1), but there must be at least one NUMA node, so returning NUMA node zero\n",
      "2022-01-07 17:22:59.965195: I tensorflow/stream_executor/cuda/cuda_gpu_executor.cc:937] successful NUMA node read from SysFS had negative value (-1), but there must be at least one NUMA node, so returning NUMA node zero\n",
      "2022-01-07 17:22:59.966378: I tensorflow/core/platform/cpu_feature_guard.cc:142] This TensorFlow binary is optimized with oneAPI Deep Neural Network Library (oneDNN) to use the following CPU instructions in performance-critical operations:  AVX2 AVX512F FMA\n",
      "To enable them in other operations, rebuild TensorFlow with the appropriate compiler flags.\n",
      "2022-01-07 17:22:59.967350: I tensorflow/stream_executor/cuda/cuda_gpu_executor.cc:937] successful NUMA node read from SysFS had negative value (-1), but there must be at least one NUMA node, so returning NUMA node zero\n",
      "2022-01-07 17:22:59.968035: I tensorflow/stream_executor/cuda/cuda_gpu_executor.cc:937] successful NUMA node read from SysFS had negative value (-1), but there must be at least one NUMA node, so returning NUMA node zero\n",
      "2022-01-07 17:22:59.968674: I tensorflow/stream_executor/cuda/cuda_gpu_executor.cc:937] successful NUMA node read from SysFS had negative value (-1), but there must be at least one NUMA node, so returning NUMA node zero\n",
      "2022-01-07 17:23:02.235852: I tensorflow/stream_executor/cuda/cuda_gpu_executor.cc:937] successful NUMA node read from SysFS had negative value (-1), but there must be at least one NUMA node, so returning NUMA node zero\n",
      "2022-01-07 17:23:02.236642: I tensorflow/stream_executor/cuda/cuda_gpu_executor.cc:937] successful NUMA node read from SysFS had negative value (-1), but there must be at least one NUMA node, so returning NUMA node zero\n",
      "2022-01-07 17:23:02.237331: I tensorflow/stream_executor/cuda/cuda_gpu_executor.cc:937] successful NUMA node read from SysFS had negative value (-1), but there must be at least one NUMA node, so returning NUMA node zero\n",
      "2022-01-07 17:23:02.237914: I tensorflow/core/common_runtime/gpu/gpu_device.cc:1510] Created device /job:localhost/replica:0/task:0/device:GPU:0 with 15403 MB memory:  -> device: 0, name: Tesla P100-PCIE-16GB, pci bus id: 0000:00:04.0, compute capability: 6.0\n"
     ]
    }
   ],
   "source": [
    "# Sử dụng sequential để xây dựng\n",
    "lstm_model = Sequential()\n",
    "\n",
    "# Thêm Lstm với unit là 128\n",
    "lstm_model.add(LSTM(units=128))\n",
    "\n",
    "# Thêm fullyconnected layer cùng với sigmoid để dự đoán \n",
    "lstm_model.add(Dense(1, activation=\"sigmoid\"))\n",
    "\n",
    "# Compile neural network\n",
    "lstm_model.compile(loss='binary_crossentropy', # Cross-entropy\n",
    "              optimizer='adam', # Adam optimization\n",
    "              metrics=['accuracy']) # Accuracy performance metric\n"
   ]
  },
  {
   "cell_type": "markdown",
   "metadata": {
    "papermill": {
     "duration": 0.07513,
     "end_time": "2022-01-07T17:23:02.728863",
     "exception": false,
     "start_time": "2022-01-07T17:23:02.653733",
     "status": "completed"
    },
    "tags": []
   },
   "source": [
    "Đối với hai mô hình ta sẽ setup các hàm callbacks hỗ trợ cho mô hình tối ưu tốt hơn:\n",
    "* `checkpoint`: lưu mô hình nếu validation_loss giảm sau mỗi epoch\n",
    "* `reduceLROnPlat`: ta sẽ giảm learning rate với công thức `newlr = oldlr * 0.2` nếu sau 2 epoch val_loss không giảm\n",
    "* `EarlyStopping`: Dừng học mô hình nếu sau 3 epoch val_loss không giảm"
   ]
  },
  {
   "cell_type": "code",
   "execution_count": 38,
   "metadata": {
    "execution": {
     "iopub.execute_input": "2022-01-07T17:23:02.886791Z",
     "iopub.status.busy": "2022-01-07T17:23:02.885515Z",
     "iopub.status.idle": "2022-01-07T17:23:02.888466Z",
     "shell.execute_reply": "2022-01-07T17:23:02.889279Z",
     "shell.execute_reply.started": "2022-01-07T16:19:24.674585Z"
    },
    "papermill": {
     "duration": 0.085692,
     "end_time": "2022-01-07T17:23:02.890590",
     "exception": false,
     "start_time": "2022-01-07T17:23:02.804898",
     "status": "completed"
    },
    "tags": []
   },
   "outputs": [],
   "source": [
    "filepath = 'Lstm-{epoch:02d}-{val_loss:.4f}.hdf5'\n",
    "## Giảm lr\n",
    "reduceLROnPlat = ReduceLROnPlateau(monitor='val_loss', factor=0.20, min_delta=1e-15 ,patience=2, \n",
    "                                   verbose=1, mode='min')\n",
    "## Lưu mô hình \n",
    "# checkpoint = ModelCheckpoint(filepath, monitor='val_loss', verbose=1, save_best_only=True, mode='min')\n",
    "## Early stop\n",
    "earlystopper = EarlyStopping(monitor='val_loss', mode='min', patience=3, verbose=1, restore_best_weights=True)\n",
    "callbacks = [reduceLROnPlat, earlystopper]"
   ]
  },
  {
   "cell_type": "code",
   "execution_count": 39,
   "metadata": {
    "execution": {
     "iopub.execute_input": "2022-01-07T17:23:03.046470Z",
     "iopub.status.busy": "2022-01-07T17:23:03.045971Z",
     "iopub.status.idle": "2022-01-07T17:31:19.509985Z",
     "shell.execute_reply": "2022-01-07T17:31:19.510969Z",
     "shell.execute_reply.started": "2022-01-07T16:28:01.309765Z"
    },
    "papermill": {
     "duration": 496.54491,
     "end_time": "2022-01-07T17:31:19.511177",
     "exception": false,
     "start_time": "2022-01-07T17:23:02.966267",
     "status": "completed"
    },
    "tags": []
   },
   "outputs": [
    {
     "name": "stderr",
     "output_type": "stream",
     "text": [
      "2022-01-07 17:23:04.383126: I tensorflow/stream_executor/cuda/cuda_dnn.cc:369] Loaded cuDNN version 8005\n",
      "2022-01-07 17:23:05.709753: I tensorflow/compiler/mlir/mlir_graph_optimization_pass.cc:185] None of the MLIR Optimization Passes are enabled (registered 2)\n"
     ]
    },
    {
     "name": "stdout",
     "output_type": "stream",
     "text": [
      "Epoch 1/30\n",
      " 997/1000 [============================>.] - ETA: 0s - loss: 0.1484 - accuracy: 0.9472"
     ]
    },
    {
     "name": "stderr",
     "output_type": "stream",
     "text": [
      "2022-01-07 17:23:22.785513: W tensorflow/core/framework/cpu_allocator_impl.cc:80] Allocation of 360000000 exceeds 10% of free system memory.\n",
      "2022-01-07 17:23:23.175184: W tensorflow/core/framework/cpu_allocator_impl.cc:80] Allocation of 360000000 exceeds 10% of free system memory.\n"
     ]
    },
    {
     "name": "stdout",
     "output_type": "stream",
     "text": [
      "1000/1000 [==============================] - 19s 17ms/step - loss: 0.1485 - accuracy: 0.9472 - val_loss: 0.1431 - val_accuracy: 0.9469\n",
      "Epoch 2/30\n",
      "1000/1000 [==============================] - 16s 16ms/step - loss: 0.1283 - accuracy: 0.9505 - val_loss: 0.1323 - val_accuracy: 0.9482\n",
      "Epoch 3/30\n",
      "1000/1000 [==============================] - 15s 16ms/step - loss: 0.1217 - accuracy: 0.9524 - val_loss: 0.1202 - val_accuracy: 0.9528\n",
      "Epoch 4/30\n",
      "1000/1000 [==============================] - 16s 16ms/step - loss: 0.1234 - accuracy: 0.9524 - val_loss: 0.1198 - val_accuracy: 0.9532\n",
      "Epoch 5/30\n",
      "1000/1000 [==============================] - 15s 15ms/step - loss: 0.1197 - accuracy: 0.9530 - val_loss: 0.1155 - val_accuracy: 0.9541\n",
      "Epoch 6/30\n",
      "1000/1000 [==============================] - 16s 16ms/step - loss: 0.1150 - accuracy: 0.9550 - val_loss: 0.1178 - val_accuracy: 0.9552\n",
      "Epoch 7/30\n",
      "1000/1000 [==============================] - 16s 16ms/step - loss: 0.1155 - accuracy: 0.9554 - val_loss: 0.1146 - val_accuracy: 0.9555\n",
      "Epoch 8/30\n",
      "1000/1000 [==============================] - 17s 17ms/step - loss: 0.1163 - accuracy: 0.9550 - val_loss: 0.1182 - val_accuracy: 0.9553\n",
      "Epoch 9/30\n",
      "1000/1000 [==============================] - 15s 15ms/step - loss: 0.1119 - accuracy: 0.9556 - val_loss: 0.1127 - val_accuracy: 0.9566\n",
      "Epoch 10/30\n",
      "1000/1000 [==============================] - 17s 17ms/step - loss: 0.1123 - accuracy: 0.9554 - val_loss: 0.1117 - val_accuracy: 0.9568\n",
      "Epoch 11/30\n",
      "1000/1000 [==============================] - 16s 16ms/step - loss: 0.1093 - accuracy: 0.9569 - val_loss: 0.1152 - val_accuracy: 0.9546\n",
      "Epoch 12/30\n",
      "1000/1000 [==============================] - 17s 17ms/step - loss: 0.1094 - accuracy: 0.9571 - val_loss: 0.1095 - val_accuracy: 0.9578\n",
      "Epoch 13/30\n",
      "1000/1000 [==============================] - 16s 16ms/step - loss: 0.1098 - accuracy: 0.9570 - val_loss: 0.1105 - val_accuracy: 0.9575\n",
      "Epoch 14/30\n",
      "1000/1000 [==============================] - 17s 17ms/step - loss: 0.1081 - accuracy: 0.9574 - val_loss: 0.1085 - val_accuracy: 0.9567\n",
      "Epoch 15/30\n",
      "1000/1000 [==============================] - 16s 16ms/step - loss: 0.1085 - accuracy: 0.9576 - val_loss: 0.1066 - val_accuracy: 0.9586\n",
      "Epoch 16/30\n",
      "1000/1000 [==============================] - 17s 17ms/step - loss: 0.1052 - accuracy: 0.9590 - val_loss: 0.1077 - val_accuracy: 0.9577\n",
      "Epoch 17/30\n",
      "1000/1000 [==============================] - 16s 16ms/step - loss: 0.1055 - accuracy: 0.9583 - val_loss: 0.1074 - val_accuracy: 0.9579\n",
      "\n",
      "Epoch 00017: ReduceLROnPlateau reducing learning rate to 0.00020000000949949026.\n",
      "Epoch 18/30\n",
      "1000/1000 [==============================] - 17s 17ms/step - loss: 0.1050 - accuracy: 0.9581 - val_loss: 0.1063 - val_accuracy: 0.9588\n",
      "Epoch 19/30\n",
      "1000/1000 [==============================] - 17s 17ms/step - loss: 0.1030 - accuracy: 0.9591 - val_loss: 0.1063 - val_accuracy: 0.9586\n",
      "Epoch 20/30\n",
      "1000/1000 [==============================] - 17s 17ms/step - loss: 0.1006 - accuracy: 0.9602 - val_loss: 0.1075 - val_accuracy: 0.9586\n",
      "\n",
      "Epoch 00020: ReduceLROnPlateau reducing learning rate to 4.0000001899898055e-05.\n",
      "Epoch 21/30\n",
      "1000/1000 [==============================] - 17s 17ms/step - loss: 0.1005 - accuracy: 0.9601 - val_loss: 0.1060 - val_accuracy: 0.9589\n",
      "Epoch 22/30\n",
      "1000/1000 [==============================] - 17s 17ms/step - loss: 0.1012 - accuracy: 0.9599 - val_loss: 0.1059 - val_accuracy: 0.9591\n",
      "Epoch 23/30\n",
      "1000/1000 [==============================] - 17s 17ms/step - loss: 0.1003 - accuracy: 0.9601 - val_loss: 0.1056 - val_accuracy: 0.9587\n",
      "Epoch 24/30\n",
      "1000/1000 [==============================] - 17s 17ms/step - loss: 0.0991 - accuracy: 0.9606 - val_loss: 0.1056 - val_accuracy: 0.9584\n",
      "Epoch 25/30\n",
      "1000/1000 [==============================] - 16s 16ms/step - loss: 0.1006 - accuracy: 0.9600 - val_loss: 0.1054 - val_accuracy: 0.9582\n",
      "Epoch 26/30\n",
      "1000/1000 [==============================] - 17s 17ms/step - loss: 0.1001 - accuracy: 0.9598 - val_loss: 0.1061 - val_accuracy: 0.9588\n",
      "Epoch 27/30\n",
      "1000/1000 [==============================] - 16s 16ms/step - loss: 0.0995 - accuracy: 0.9602 - val_loss: 0.1054 - val_accuracy: 0.9587\n",
      "Epoch 28/30\n",
      "1000/1000 [==============================] - 17s 17ms/step - loss: 0.1003 - accuracy: 0.9604 - val_loss: 0.1059 - val_accuracy: 0.9586\n",
      "Epoch 29/30\n",
      "1000/1000 [==============================] - 16s 16ms/step - loss: 0.1001 - accuracy: 0.9603 - val_loss: 0.1055 - val_accuracy: 0.9585\n",
      "\n",
      "Epoch 00029: ReduceLROnPlateau reducing learning rate to 8.000000525498762e-06.\n",
      "Epoch 30/30\n",
      "1000/1000 [==============================] - 17s 17ms/step - loss: 0.0997 - accuracy: 0.9609 - val_loss: 0.1055 - val_accuracy: 0.9584\n",
      "Restoring model weights from the end of the best epoch.\n",
      "Epoch 00030: early stopping\n"
     ]
    }
   ],
   "source": [
    "lstm_history = lstm_model.fit(train_gen,\n",
    "                    epochs=30,\n",
    "                    steps_per_epoch=1000, \n",
    "                    validation_data=validation_data,\n",
    "                    callbacks=callbacks,\n",
    "                    verbose=True)"
   ]
  },
  {
   "cell_type": "code",
   "execution_count": 40,
   "metadata": {
    "execution": {
     "iopub.execute_input": "2022-01-07T17:31:23.799702Z",
     "iopub.status.busy": "2022-01-07T17:31:23.799119Z",
     "iopub.status.idle": "2022-01-07T17:31:29.906904Z",
     "shell.execute_reply": "2022-01-07T17:31:29.908766Z",
     "shell.execute_reply.started": "2022-01-07T16:36:09.452870Z"
    },
    "papermill": {
     "duration": 8.216199,
     "end_time": "2022-01-07T17:31:29.909112",
     "exception": false,
     "start_time": "2022-01-07T17:31:21.692913",
     "status": "completed"
    },
    "tags": []
   },
   "outputs": [
    {
     "data": {
      "image/png": "[encoded data removed]",
      "text/plain": [
       "<Figure size 1080x360 with 1 Axes>"
      ]
     },
     "metadata": {
      "needs_background": "light"
     },
     "output_type": "display_data"
    },
    {
     "data": {
      "image/png": "[encoded data removed]",
      "text/plain": [
       "<Figure size 1080x360 with 1 Axes>"
      ]
     },
     "metadata": {
      "needs_background": "light"
     },
     "output_type": "display_data"
    }
   ],
   "source": [
    "## Hiển thị history\n",
    "plot_his(lstm_history)"
   ]
  },
  {
   "cell_type": "markdown",
   "metadata": {
    "papermill": {
     "duration": 2.102447,
     "end_time": "2022-01-07T17:31:34.435882",
     "exception": false,
     "start_time": "2022-01-07T17:31:32.333435",
     "status": "completed"
    },
    "tags": []
   },
   "source": [
    "## Mô hình BiLSTM"
   ]
  },
  {
   "cell_type": "markdown",
   "metadata": {
    "papermill": {
     "duration": 2.127007,
     "end_time": "2022-01-07T17:31:38.683196",
     "exception": false,
     "start_time": "2022-01-07T17:31:36.556189",
     "status": "completed"
    },
    "tags": []
   },
   "source": [
    "![](https://miro.medium.com/max/1098/1*xdvd-PJewtzFF6vP55ObwA.png)\n",
    "Mô hình **bi-lstm** với phần xương sống vẫn là **lstm**\n",
    "\n",
    "Tuy nhiên nó học ngữ cảnh theo hai chiều (bi-directional).\n",
    "\n",
    "Vì vậy nó sẽ học ngữ cảnh của từ so với các từ trong quá khứ và tương lai.\n",
    "\n",
    "Ta sẽ xây dựng mô hình **Bi-LSTM** với 2 layer chồng lên nhau."
   ]
  },
  {
   "cell_type": "code",
   "execution_count": 41,
   "metadata": {
    "execution": {
     "iopub.execute_input": "2022-01-07T17:31:43.243166Z",
     "iopub.status.busy": "2022-01-07T17:31:43.242323Z",
     "iopub.status.idle": "2022-01-07T17:31:43.510752Z",
     "shell.execute_reply": "2022-01-07T17:31:43.510291Z",
     "shell.execute_reply.started": "2022-01-07T16:36:24.531364Z"
    },
    "papermill": {
     "duration": 2.603505,
     "end_time": "2022-01-07T17:31:43.510893",
     "exception": false,
     "start_time": "2022-01-07T17:31:40.907388",
     "status": "completed"
    },
    "tags": []
   },
   "outputs": [],
   "source": [
    "## Xây dựng sequential\n",
    "model = Sequential()\n",
    "## Layer1\n",
    "model.add(Bidirectional(CuDNNLSTM(64, return_sequences=True),\n",
    "                        input_shape=(30, 300)))\n",
    "## Layer 2\n",
    "model.add(Bidirectional(CuDNNLSTM(64)))\n",
    "model.add(Dense(1, activation=\"sigmoid\"))\n",
    "\n",
    "model.compile(loss='binary_crossentropy',\n",
    "              optimizer='adam',\n",
    "              metrics=['accuracy'])"
   ]
  },
  {
   "cell_type": "code",
   "execution_count": 42,
   "metadata": {
    "execution": {
     "iopub.execute_input": "2022-01-07T17:31:47.838506Z",
     "iopub.status.busy": "2022-01-07T17:31:47.837928Z",
     "iopub.status.idle": "2022-01-07T17:31:47.840976Z",
     "shell.execute_reply": "2022-01-07T17:31:47.841394Z",
     "shell.execute_reply.started": "2022-01-07T16:36:28.222691Z"
    },
    "papermill": {
     "duration": 2.158872,
     "end_time": "2022-01-07T17:31:47.841529",
     "exception": false,
     "start_time": "2022-01-07T17:31:45.682657",
     "status": "completed"
    },
    "tags": []
   },
   "outputs": [
    {
     "name": "stdout",
     "output_type": "stream",
     "text": [
      "Model: \"sequential_1\"\n",
      "_________________________________________________________________\n",
      "Layer (type)                 Output Shape              Param #   \n",
      "=================================================================\n",
      "bidirectional (Bidirectional (None, 30, 128)           187392    \n",
      "_________________________________________________________________\n",
      "bidirectional_1 (Bidirection (None, 128)               99328     \n",
      "_________________________________________________________________\n",
      "dense_1 (Dense)              (None, 1)                 129       \n",
      "=================================================================\n",
      "Total params: 286,849\n",
      "Trainable params: 286,849\n",
      "Non-trainable params: 0\n",
      "_________________________________________________________________\n"
     ]
    }
   ],
   "source": [
    "model.summary()"
   ]
  },
  {
   "cell_type": "markdown",
   "metadata": {
    "papermill": {
     "duration": 2.372004,
     "end_time": "2022-01-07T17:31:52.309578",
     "exception": false,
     "start_time": "2022-01-07T17:31:49.937574",
     "status": "completed"
    },
    "tags": []
   },
   "source": [
    "Set up callback tương tự LSTM"
   ]
  },
  {
   "cell_type": "code",
   "execution_count": 43,
   "metadata": {
    "execution": {
     "iopub.execute_input": "2022-01-07T17:31:56.678730Z",
     "iopub.status.busy": "2022-01-07T17:31:56.677907Z",
     "iopub.status.idle": "2022-01-07T17:31:56.680402Z",
     "shell.execute_reply": "2022-01-07T17:31:56.679989Z",
     "shell.execute_reply.started": "2022-01-07T16:36:36.583344Z"
    },
    "papermill": {
     "duration": 2.139485,
     "end_time": "2022-01-07T17:31:56.680528",
     "exception": false,
     "start_time": "2022-01-07T17:31:54.541043",
     "status": "completed"
    },
    "tags": []
   },
   "outputs": [],
   "source": [
    "filepath = 'BiLstm-{epoch:02d}-{val_loss:.4f}.hdf5'\n",
    "reduceLROnPlat = ReduceLROnPlateau(monitor='val_loss', factor=0.20, min_delta=1e-15 ,patience=2, \n",
    "                                   verbose=1, mode='min')\n",
    "# checkpoint = ModelCheckpoint(filepath, monitor='val_loss', verbose=1, save_best_only=True, mode='min')\n",
    "earlystopper = EarlyStopping(monitor='val_loss', mode='min', patience=3, verbose=1, restore_best_weights=True)\n",
    "callbacks = [reduceLROnPlat, earlystopper]"
   ]
  },
  {
   "cell_type": "code",
   "execution_count": 44,
   "metadata": {
    "execution": {
     "iopub.execute_input": "2022-01-07T17:32:00.983353Z",
     "iopub.status.busy": "2022-01-07T17:32:00.982538Z",
     "iopub.status.idle": "2022-01-07T17:32:00.985223Z",
     "shell.execute_reply": "2022-01-07T17:32:00.984802Z",
     "shell.execute_reply.started": "2022-01-07T06:11:15.37019Z"
    },
    "papermill": {
     "duration": 2.175985,
     "end_time": "2022-01-07T17:32:00.985331",
     "exception": false,
     "start_time": "2022-01-07T17:31:58.809346",
     "status": "completed"
    },
    "tags": []
   },
   "outputs": [],
   "source": [
    "# train_step = math.ceil(len(train_df) / batch_size)\n",
    "# val_step = math.ceil(len(val_df) / batch_size)\n",
    "\n",
    "# history = model.fit(train_gen, batch_size=batch_size, epochs= 10, steps_per_epoch=train_step, validation_data = val_gen, validation_steps=val_step, verbose=True, callbacks=callbacks)"
   ]
  },
  {
   "cell_type": "code",
   "execution_count": 45,
   "metadata": {
    "execution": {
     "iopub.execute_input": "2022-01-07T17:32:05.964481Z",
     "iopub.status.busy": "2022-01-07T17:32:05.963604Z",
     "iopub.status.idle": "2022-01-07T17:41:18.830105Z",
     "shell.execute_reply": "2022-01-07T17:41:18.829427Z",
     "shell.execute_reply.started": "2022-01-07T16:36:47.654324Z"
    },
    "papermill": {
     "duration": 555.007711,
     "end_time": "2022-01-07T17:41:18.830285",
     "exception": false,
     "start_time": "2022-01-07T17:32:03.822574",
     "status": "completed"
    },
    "tags": []
   },
   "outputs": [
    {
     "name": "stdout",
     "output_type": "stream",
     "text": [
      "Epoch 1/30\n",
      " 997/1000 [============================>.] - ETA: 0s - loss: 0.1422 - accuracy: 0.9473"
     ]
    },
    {
     "name": "stderr",
     "output_type": "stream",
     "text": [
      "2022-01-07 17:32:26.586381: W tensorflow/core/framework/cpu_allocator_impl.cc:80] Allocation of 360000000 exceeds 10% of free system memory.\n",
      "2022-01-07 17:32:26.970763: W tensorflow/core/framework/cpu_allocator_impl.cc:80] Allocation of 360000000 exceeds 10% of free system memory.\n"
     ]
    },
    {
     "name": "stdout",
     "output_type": "stream",
     "text": [
      "1000/1000 [==============================] - 23s 21ms/step - loss: 0.1422 - accuracy: 0.9473 - val_loss: 0.1260 - val_accuracy: 0.9535\n",
      "Epoch 2/30\n",
      "1000/1000 [==============================] - 22s 22ms/step - loss: 0.1256 - accuracy: 0.9507 - val_loss: 0.1223 - val_accuracy: 0.9522\n",
      "Epoch 3/30\n",
      "1000/1000 [==============================] - 20s 20ms/step - loss: 0.1200 - accuracy: 0.9533 - val_loss: 0.1195 - val_accuracy: 0.9529\n",
      "Epoch 4/30\n",
      "1000/1000 [==============================] - 21s 21ms/step - loss: 0.1191 - accuracy: 0.9534 - val_loss: 0.1200 - val_accuracy: 0.9550\n",
      "Epoch 5/30\n",
      "1000/1000 [==============================] - 21s 21ms/step - loss: 0.1154 - accuracy: 0.9550 - val_loss: 0.1154 - val_accuracy: 0.9551\n",
      "Epoch 6/30\n",
      "1000/1000 [==============================] - 20s 20ms/step - loss: 0.1130 - accuracy: 0.9556 - val_loss: 0.1195 - val_accuracy: 0.9547\n",
      "Epoch 7/30\n",
      "1000/1000 [==============================] - 22s 22ms/step - loss: 0.1108 - accuracy: 0.9562 - val_loss: 0.1133 - val_accuracy: 0.9563\n",
      "Epoch 8/30\n",
      "1000/1000 [==============================] - 20s 20ms/step - loss: 0.1094 - accuracy: 0.9574 - val_loss: 0.1108 - val_accuracy: 0.9567\n",
      "Epoch 9/30\n",
      "1000/1000 [==============================] - 22s 22ms/step - loss: 0.1090 - accuracy: 0.9567 - val_loss: 0.1130 - val_accuracy: 0.9561\n",
      "Epoch 10/30\n",
      "1000/1000 [==============================] - 20s 20ms/step - loss: 0.1080 - accuracy: 0.9575 - val_loss: 0.1096 - val_accuracy: 0.9565\n",
      "Epoch 11/30\n",
      "1000/1000 [==============================] - 20s 20ms/step - loss: 0.1087 - accuracy: 0.9568 - val_loss: 0.1114 - val_accuracy: 0.9580\n",
      "Epoch 12/30\n",
      "1000/1000 [==============================] - 22s 22ms/step - loss: 0.1086 - accuracy: 0.9573 - val_loss: 0.1090 - val_accuracy: 0.9571\n",
      "Epoch 13/30\n",
      "1000/1000 [==============================] - 21s 21ms/step - loss: 0.1071 - accuracy: 0.9585 - val_loss: 0.1097 - val_accuracy: 0.9581\n",
      "Epoch 14/30\n",
      "1000/1000 [==============================] - 20s 20ms/step - loss: 0.1053 - accuracy: 0.9585 - val_loss: 0.1069 - val_accuracy: 0.9590\n",
      "Epoch 15/30\n",
      "1000/1000 [==============================] - 20s 20ms/step - loss: 0.1056 - accuracy: 0.9582 - val_loss: 0.1064 - val_accuracy: 0.9573\n",
      "Epoch 16/30\n",
      "1000/1000 [==============================] - 24s 24ms/step - loss: 0.1059 - accuracy: 0.9587 - val_loss: 0.1065 - val_accuracy: 0.9588\n",
      "Epoch 17/30\n",
      "1000/1000 [==============================] - 20s 20ms/step - loss: 0.1014 - accuracy: 0.9595 - val_loss: 0.1079 - val_accuracy: 0.9588\n",
      "\n",
      "Epoch 00017: ReduceLROnPlateau reducing learning rate to 0.00020000000949949026.\n",
      "Epoch 18/30\n",
      "1000/1000 [==============================] - 20s 20ms/step - loss: 0.0989 - accuracy: 0.9615 - val_loss: 0.1052 - val_accuracy: 0.9594\n",
      "Epoch 19/30\n",
      "1000/1000 [==============================] - 23s 23ms/step - loss: 0.0992 - accuracy: 0.9607 - val_loss: 0.1054 - val_accuracy: 0.9594\n",
      "Epoch 20/30\n",
      "1000/1000 [==============================] - 20s 20ms/step - loss: 0.0968 - accuracy: 0.9613 - val_loss: 0.1050 - val_accuracy: 0.9587\n",
      "Epoch 21/30\n",
      "1000/1000 [==============================] - 21s 21ms/step - loss: 0.0972 - accuracy: 0.9615 - val_loss: 0.1047 - val_accuracy: 0.9586\n",
      "Epoch 22/30\n",
      "1000/1000 [==============================] - 22s 22ms/step - loss: 0.0996 - accuracy: 0.9605 - val_loss: 0.1044 - val_accuracy: 0.9597\n",
      "Epoch 23/30\n",
      "1000/1000 [==============================] - 21s 21ms/step - loss: 0.0984 - accuracy: 0.9607 - val_loss: 0.1039 - val_accuracy: 0.9604\n",
      "Epoch 24/30\n",
      "1000/1000 [==============================] - 21s 21ms/step - loss: 0.0973 - accuracy: 0.9616 - val_loss: 0.1043 - val_accuracy: 0.9599\n",
      "Epoch 25/30\n",
      "1000/1000 [==============================] - 20s 20ms/step - loss: 0.0972 - accuracy: 0.9609 - val_loss: 0.1042 - val_accuracy: 0.9596\n",
      "\n",
      "Epoch 00025: ReduceLROnPlateau reducing learning rate to 4.0000001899898055e-05.\n",
      "Epoch 26/30\n",
      "1000/1000 [==============================] - 24s 24ms/step - loss: 0.0975 - accuracy: 0.9608 - val_loss: 0.1042 - val_accuracy: 0.9598\n",
      "Restoring model weights from the end of the best epoch.\n",
      "Epoch 00026: early stopping\n"
     ]
    }
   ],
   "source": [
    "history = model.fit(train_gen,\n",
    "                    epochs=30,\n",
    "                    steps_per_epoch=1000, \n",
    "                    validation_data=validation_data,\n",
    "                    callbacks=callbacks,\n",
    "                    verbose=True)"
   ]
  },
  {
   "cell_type": "code",
   "execution_count": 46,
   "metadata": {
    "execution": {
     "iopub.execute_input": "2022-01-07T17:41:27.995278Z",
     "iopub.status.busy": "2022-01-07T17:41:27.987467Z",
     "iopub.status.idle": "2022-01-07T17:41:30.228785Z",
     "shell.execute_reply": "2022-01-07T17:41:30.229149Z",
     "shell.execute_reply.started": "2022-01-07T16:49:02.888592Z"
    },
    "papermill": {
     "duration": 6.962503,
     "end_time": "2022-01-07T17:41:30.229311",
     "exception": false,
     "start_time": "2022-01-07T17:41:23.266808",
     "status": "completed"
    },
    "tags": []
   },
   "outputs": [
    {
     "data": {
      "image/png": "[encoded data removed]",
      "text/plain": [
       "<Figure size 1080x360 with 1 Axes>"
      ]
     },
     "metadata": {
      "needs_background": "light"
     },
     "output_type": "display_data"
    },
    {
     "data": {
      "image/png": "[encoded data removed]",
      "text/plain": [
       "<Figure size 1080x360 with 1 Axes>"
      ]
     },
     "metadata": {
      "needs_background": "light"
     },
     "output_type": "display_data"
    }
   ],
   "source": [
    "plot_his(history)"
   ]
  },
  {
   "cell_type": "markdown",
   "metadata": {
    "papermill": {
     "duration": 4.673058,
     "end_time": "2022-01-07T17:41:39.313054",
     "exception": false,
     "start_time": "2022-01-07T17:41:34.639996",
     "status": "completed"
    },
    "tags": []
   },
   "source": [
    "# Dự đoán dữ liệu test và submission"
   ]
  },
  {
   "cell_type": "markdown",
   "metadata": {
    "papermill": {
     "duration": 4.689043,
     "end_time": "2022-01-07T17:41:48.886399",
     "exception": false,
     "start_time": "2022-01-07T17:41:44.197356",
     "status": "completed"
    },
    "tags": []
   },
   "source": [
    "Ta sẽ lựa chọn threshold tốt nhất cho hai mô hình sao cho giá trị **f1_score** là cao nhất sau đó chọn mô hình tốt nhất sử dụng hàm **best_threshold**.\n",
    "\n",
    "Ta sẽ đặt khoảng thres từ 0.1 đến 0.7 bởi chúng ta muốn tỉ lệ false positive cao hơn một chút do dữ liệu mất cân bằng về phía nhãn 0."
   ]
  },
  {
   "cell_type": "code",
   "execution_count": 47,
   "metadata": {
    "execution": {
     "iopub.execute_input": "2022-01-07T17:41:57.914375Z",
     "iopub.status.busy": "2022-01-07T17:41:57.913501Z",
     "iopub.status.idle": "2022-01-07T17:42:00.601844Z",
     "shell.execute_reply": "2022-01-07T17:42:00.601392Z",
     "shell.execute_reply.started": "2022-01-07T16:49:19.270729Z"
    },
    "papermill": {
     "duration": 7.324932,
     "end_time": "2022-01-07T17:42:00.601976",
     "exception": false,
     "start_time": "2022-01-07T17:41:53.277044",
     "status": "completed"
    },
    "tags": []
   },
   "outputs": [
    {
     "name": "stderr",
     "output_type": "stream",
     "text": [
      "2022-01-07 17:41:58.222402: W tensorflow/core/framework/cpu_allocator_impl.cc:80] Allocation of 360000000 exceeds 10% of free system memory.\n"
     ]
    },
    {
     "name": "stdout",
     "output_type": "stream",
     "text": [
      "The best threshold is 0.666157372039725 with f1_score 0.35 of LSTM\n"
     ]
    }
   ],
   "source": [
    "pred_val = lstm_model.predict(val_vects, verbose=False)\n",
    "\n",
    "## Hàm threshold\n",
    "def best_threshold(pred, truth):\n",
    "    thresholds = []\n",
    "    scores = []\n",
    "    for thresh in np.arange(0.1, 0.701, 0.01):\n",
    "        thresh = np.round(thresh, 2)\n",
    "        thresholds.append(thresh)\n",
    "        score = f1_score(truth, (pred>thresh).astype(int))\n",
    "        scores.append(score)\n",
    "    return np.max(scores), thresholds[np.argmax(scores)]\n",
    "\n",
    "y_val_truth = np.array(val_df['target'])\n",
    "score_val, threshold_val = best_threshold(pred_val, val_y)\n",
    "\n",
    "\n",
    "print(\"The best threshold is {0} with f1_score {1} of LSTM\".format(score_val, threshold_val))"
   ]
  },
  {
   "cell_type": "code",
   "execution_count": 48,
   "metadata": {
    "execution": {
     "iopub.execute_input": "2022-01-07T17:42:09.643753Z",
     "iopub.status.busy": "2022-01-07T17:42:09.642760Z",
     "iopub.status.idle": "2022-01-07T17:42:12.317106Z",
     "shell.execute_reply": "2022-01-07T17:42:12.317692Z",
     "shell.execute_reply.started": "2022-01-07T16:49:31.090988Z"
    },
    "papermill": {
     "duration": 7.309367,
     "end_time": "2022-01-07T17:42:12.317856",
     "exception": false,
     "start_time": "2022-01-07T17:42:05.008489",
     "status": "completed"
    },
    "tags": []
   },
   "outputs": [
    {
     "name": "stdout",
     "output_type": "stream",
     "text": [
      "The best threshold is 0.6706766917293233 with f1_score 0.32 of Bi-LSTM model\n"
     ]
    }
   ],
   "source": [
    "pred_val_bi_lstm = model.predict(val_vects, verbose=False)\n",
    "score_val_bi, threshold_val_bi = best_threshold(pred_val_bi_lstm, val_y)\n",
    "print(\"The best threshold is {0} with f1_score {1} of Bi-LSTM model\".format(score_val_bi, threshold_val_bi))"
   ]
  },
  {
   "cell_type": "code",
   "execution_count": 49,
   "metadata": {
    "execution": {
     "iopub.execute_input": "2022-01-07T17:42:21.842164Z",
     "iopub.status.busy": "2022-01-07T17:42:21.841285Z",
     "iopub.status.idle": "2022-01-07T17:42:21.843232Z",
     "shell.execute_reply": "2022-01-07T17:42:21.843589Z",
     "shell.execute_reply.started": "2022-01-07T16:49:49.362258Z"
    },
    "papermill": {
     "duration": 4.697332,
     "end_time": "2022-01-07T17:42:21.843746",
     "exception": false,
     "start_time": "2022-01-07T17:42:17.146414",
     "status": "completed"
    },
    "tags": []
   },
   "outputs": [],
   "source": [
    "def batch_test_gen(test_df):\n",
    "    n_batches = math.ceil(len(test_df) / batch_size)\n",
    "    for i in range(n_batches):\n",
    "        texts = test_df.iloc[i * batch_size: (i + 1) * batch_size, 1]\n",
    "        text_arr = [text_to_array(text) for text in texts]\n",
    "        yield np.array(text_arr, dtype=float)"
   ]
  },
  {
   "cell_type": "markdown",
   "metadata": {},
   "source": [
    "Ta sẽ lựa chọn mô hình có điểm **f1_score** cao hơn để dự đoán tập test"
   ]
  },
  {
   "cell_type": "code",
   "execution_count": 50,
   "metadata": {
    "execution": {
     "iopub.execute_input": "2022-01-07T17:42:30.849411Z",
     "iopub.status.busy": "2022-01-07T17:42:30.848578Z",
     "iopub.status.idle": "2022-01-07T17:45:46.243240Z",
     "shell.execute_reply": "2022-01-07T17:45:46.243864Z",
     "shell.execute_reply.started": "2022-01-07T16:51:17.680935Z"
    },
    "papermill": {
     "duration": 199.988774,
     "end_time": "2022-01-07T17:45:46.244074",
     "exception": false,
     "start_time": "2022-01-07T17:42:26.255300",
     "status": "completed"
    },
    "tags": []
   },
   "outputs": [
    {
     "name": "stderr",
     "output_type": "stream",
     "text": [
      "2936it [03:15, 15.03it/s]\n"
     ]
    }
   ],
   "source": [
    "all_preds = []\n",
    "final_thres = 0\n",
    "res = 0\n",
    "for x in tqdm(batch_test_gen(test_df)):\n",
    "    if score_val_bi > score_val:\n",
    "        res = model.predict(x, verbose=False)\n",
    "        final_thres = threshold_val_bi\n",
    "    else:\n",
    "        res = lstm_model.predict(x, verbose=False)\n",
    "        final_thres = threshold_val\n",
    "    res = (res > final_thres ).astype(int)\n",
    "    for i in res:\n",
    "        all_preds.append(i[0])"
   ]
  },
  {
   "cell_type": "code",
   "execution_count": 51,
   "metadata": {
    "execution": {
     "iopub.execute_input": "2022-01-07T17:45:56.051446Z",
     "iopub.status.busy": "2022-01-07T17:45:56.049866Z",
     "iopub.status.idle": "2022-01-07T17:45:56.053842Z",
     "shell.execute_reply": "2022-01-07T17:45:56.053214Z",
     "shell.execute_reply.started": "2022-01-07T16:56:31.690976Z"
    },
    "papermill": {
     "duration": 4.771516,
     "end_time": "2022-01-07T17:45:56.053995",
     "exception": false,
     "start_time": "2022-01-07T17:45:51.282479",
     "status": "completed"
    },
    "tags": []
   },
   "outputs": [
    {
     "name": "stdout",
     "output_type": "stream",
     "text": [
      "0.32\n"
     ]
    }
   ],
   "source": [
    "print(final_thres)"
   ]
  },
  {
   "cell_type": "code",
   "execution_count": 52,
   "metadata": {
    "execution": {
     "iopub.execute_input": "2022-01-07T17:46:06.532471Z",
     "iopub.status.busy": "2022-01-07T17:46:06.349360Z",
     "iopub.status.idle": "2022-01-07T17:46:06.544690Z",
     "shell.execute_reply": "2022-01-07T17:46:06.544241Z",
     "shell.execute_reply.started": "2022-01-07T16:57:31.308952Z"
    },
    "papermill": {
     "duration": 5.496173,
     "end_time": "2022-01-07T17:46:06.544821",
     "exception": false,
     "start_time": "2022-01-07T17:46:01.048648",
     "status": "completed"
    },
    "tags": []
   },
   "outputs": [
    {
     "data": {
      "text/html": [
       "<div>\n",
       "<style scoped>\n",
       "    .dataframe tbody tr th:only-of-type {\n",
       "        vertical-align: middle;\n",
       "    }\n",
       "\n",
       "    .dataframe tbody tr th {\n",
       "        vertical-align: top;\n",
       "    }\n",
       "\n",
       "    .dataframe thead th {\n",
       "        text-align: right;\n",
       "    }\n",
       "</style>\n",
       "<table border=\"1\" class=\"dataframe\">\n",
       "  <thead>\n",
       "    <tr style=\"text-align: right;\">\n",
       "      <th></th>\n",
       "      <th>qid</th>\n",
       "      <th>prediction</th>\n",
       "    </tr>\n",
       "  </thead>\n",
       "  <tbody>\n",
       "    <tr>\n",
       "      <th>0</th>\n",
       "      <td>0000163e3ea7c7a74cd7</td>\n",
       "      <td>1</td>\n",
       "    </tr>\n",
       "    <tr>\n",
       "      <th>1</th>\n",
       "      <td>00002bd4fb5d505b9161</td>\n",
       "      <td>0</td>\n",
       "    </tr>\n",
       "    <tr>\n",
       "      <th>2</th>\n",
       "      <td>00007756b4a147d2b0b3</td>\n",
       "      <td>0</td>\n",
       "    </tr>\n",
       "    <tr>\n",
       "      <th>3</th>\n",
       "      <td>000086e4b7e1c7146103</td>\n",
       "      <td>0</td>\n",
       "    </tr>\n",
       "    <tr>\n",
       "      <th>4</th>\n",
       "      <td>0000c4c3fbe8785a3090</td>\n",
       "      <td>0</td>\n",
       "    </tr>\n",
       "  </tbody>\n",
       "</table>\n",
       "</div>"
      ],
      "text/plain": [
       "                    qid  prediction\n",
       "0  0000163e3ea7c7a74cd7           1\n",
       "1  00002bd4fb5d505b9161           0\n",
       "2  00007756b4a147d2b0b3           0\n",
       "3  000086e4b7e1c7146103           0\n",
       "4  0000c4c3fbe8785a3090           0"
      ]
     },
     "execution_count": 52,
     "metadata": {},
     "output_type": "execute_result"
    }
   ],
   "source": [
    "submit_df = pd.DataFrame({\"qid\": test_df[\"qid\"], \"prediction\": all_preds})\n",
    "submit_df.head(5)"
   ]
  },
  {
   "cell_type": "code",
   "execution_count": 53,
   "metadata": {
    "execution": {
     "iopub.execute_input": "2022-01-07T17:46:16.320289Z",
     "iopub.status.busy": "2022-01-07T17:46:16.319748Z",
     "iopub.status.idle": "2022-01-07T17:46:17.095991Z",
     "shell.execute_reply": "2022-01-07T17:46:17.096401Z",
     "shell.execute_reply.started": "2022-01-07T16:57:38.811149Z"
    },
    "papermill": {
     "duration": 5.540931,
     "end_time": "2022-01-07T17:46:17.096563",
     "exception": false,
     "start_time": "2022-01-07T17:46:11.555632",
     "status": "completed"
    },
    "tags": []
   },
   "outputs": [],
   "source": [
    "submit_df.to_csv(\"submission.csv\", index=False)"
   ]
  },
  {
   "cell_type": "markdown",
   "metadata": {},
   "source": [
    "# Kết quả đạt được"
   ]
  },
  {
   "cell_type": "markdown",
   "metadata": {
    "papermill": {
     "duration": 4.826452,
     "end_time": "2022-01-07T17:46:26.918691",
     "exception": false,
     "start_time": "2022-01-07T17:46:22.092239",
     "status": "completed"
    },
    "tags": []
   },
   "source": [
    "![](./Res.png)\n"
   ]
  },
  {
   "cell_type": "markdown",
   "metadata": {},
   "source": [
    "Kết quả đạt được cho **public score** là 0.63912 và đối với **Private Score** là 0.65743"
   ]
  },
  {
   "cell_type": "code",
   "execution_count": null,
   "metadata": {},
   "outputs": [],
   "source": []
  }
 ],
 "metadata": {
  "kernelspec": {
   "display_name": "Python 3",
   "language": "python",
   "name": "python3"
  },
  "language_info": {
   "codemirror_mode": {
    "name": "ipython",
    "version": 3
   },
   "file_extension": ".py",
   "mimetype": "text/x-python",
   "name": "python",
   "nbconvert_exporter": "python",
   "pygments_lexer": "ipython3",
   "version": "3.7.1"
  },
  "papermill": {
   "default_parameters": {},
   "duration": 2046.923142,
   "end_time": "2022-01-07T17:46:35.112678",
   "environment_variables": {},
   "exception": null,
   "input_path": "__notebook__.ipynb",
   "output_path": "__notebook__.ipynb",
   "parameters": {},
   "start_time": "2022-01-07T17:12:28.189536",
   "version": "2.3.3"
  },
  "widgets": {
   "application/vnd.jupyter.widget-state+json": {
    "state": {
     "0bd38f99bda34527b6ed5b4bbbca04e4": {
      "model_module": "@jupyter-widgets/base",
      "model_module_version": "1.2.0",
      "model_name": "LayoutModel",
      "state": {
       "_model_module": "@jupyter-widgets/base",
       "_model_module_version": "1.2.0",
       "_model_name": "LayoutModel",
       "_view_count": null,
       "_view_module": "@jupyter-widgets/base",
       "_view_module_version": "1.2.0",
       "_view_name": "LayoutView",
       "align_content": null,
       "align_items": null,
       "align_self": null,
       "border": null,
       "bottom": null,
       "display": null,
       "flex": null,
       "flex_flow": null,
       "grid_area": null,
       "grid_auto_columns": null,
       "grid_auto_flow": null,
       "grid_auto_rows": null,
       "grid_column": null,
       "grid_gap": null,
       "grid_row": null,
       "grid_template_areas": null,
       "grid_template_columns": null,
       "grid_template_rows": null,
       "height": null,
       "justify_content": null,
       "justify_items": null,
       "left": null,
       "margin": null,
       "max_height": null,
       "max_width": null,
       "min_height": null,
       "min_width": null,
       "object_fit": null,
       "object_position": null,
       "order": null,
       "overflow": null,
       "overflow_x": null,
       "overflow_y": null,
       "padding": null,
       "right": null,
       "top": null,
       "visibility": null,
       "width": null
      }
     },
     "0f1c8b646db7465c97f9785aebf40a43": {
      "model_module": "@jupyter-widgets/controls",
      "model_module_version": "1.5.0",
      "model_name": "DescriptionStyleModel",
      "state": {
       "_model_module": "@jupyter-widgets/controls",
       "_model_module_version": "1.5.0",
       "_model_name": "DescriptionStyleModel",
       "_view_count": null,
       "_view_module": "@jupyter-widgets/base",
       "_view_module_version": "1.2.0",
       "_view_name": "StyleView",
       "description_width": ""
      }
     },
     "15c5b1693af44e32bebbc87d6edce6d3": {
      "model_module": "@jupyter-widgets/controls",
      "model_module_version": "1.5.0",
      "model_name": "HTMLModel",
      "state": {
       "_dom_classes": [],
       "_model_module": "@jupyter-widgets/controls",
       "_model_module_version": "1.5.0",
       "_model_name": "HTMLModel",
       "_view_count": null,
       "_view_module": "@jupyter-widgets/controls",
       "_view_module_version": "1.5.0",
       "_view_name": "HTMLView",
       "description": "",
       "description_tooltip": null,
       "layout": "IPY_MODEL_471a0062f6b24c05bd4aba57e6cffd8b",
       "placeholder": "​",
       "style": "IPY_MODEL_33af713baa704f28ab234206b029555f",
       "value": "100%"
      }
     },
     "18a6fa63f0f34a69bbe688181e89304c": {
      "model_module": "@jupyter-widgets/controls",
      "model_module_version": "1.5.0",
      "model_name": "HTMLModel",
      "state": {
       "_dom_classes": [],
       "_model_module": "@jupyter-widgets/controls",
       "_model_module_version": "1.5.0",
       "_model_name": "HTMLModel",
       "_view_count": null,
       "_view_module": "@jupyter-widgets/controls",
       "_view_module_version": "1.5.0",
       "_view_name": "HTMLView",
       "description": "",
       "description_tooltip": null,
       "layout": "IPY_MODEL_7c442057bd334086abcafb74f4c8733f",
       "placeholder": "​",
       "style": "IPY_MODEL_0f1c8b646db7465c97f9785aebf40a43",
       "value": "100%"
      }
     },
     "18d86776dc2b41d5b921c118cdd7ebc0": {
      "model_module": "@jupyter-widgets/base",
      "model_module_version": "1.2.0",
      "model_name": "LayoutModel",
      "state": {
       "_model_module": "@jupyter-widgets/base",
       "_model_module_version": "1.2.0",
       "_model_name": "LayoutModel",
       "_view_count": null,
       "_view_module": "@jupyter-widgets/base",
       "_view_module_version": "1.2.0",
       "_view_name": "LayoutView",
       "align_content": null,
       "align_items": null,
       "align_self": null,
       "border": null,
       "bottom": null,
       "display": null,
       "flex": null,
       "flex_flow": null,
       "grid_area": null,
       "grid_auto_columns": null,
       "grid_auto_flow": null,
       "grid_auto_rows": null,
       "grid_column": null,
       "grid_gap": null,
       "grid_row": null,
       "grid_template_areas": null,
       "grid_template_columns": null,
       "grid_template_rows": null,
       "height": null,
       "justify_content": null,
       "justify_items": null,
       "left": null,
       "margin": null,
       "max_height": null,
       "max_width": null,
       "min_height": null,
       "min_width": null,
       "object_fit": null,
       "object_position": null,
       "order": null,
       "overflow": null,
       "overflow_x": null,
       "overflow_y": null,
       "padding": null,
       "right": null,
       "top": null,
       "visibility": null,
       "width": null
      }
     },
     "1a237cbee07b4ef7a36594ce5611ff6c": {
      "model_module": "@jupyter-widgets/base",
      "model_module_version": "1.2.0",
      "model_name": "LayoutModel",
      "state": {
       "_model_module": "@jupyter-widgets/base",
       "_model_module_version": "1.2.0",
       "_model_name": "LayoutModel",
       "_view_count": null,
       "_view_module": "@jupyter-widgets/base",
       "_view_module_version": "1.2.0",
       "_view_name": "LayoutView",
       "align_content": null,
       "align_items": null,
       "align_self": null,
       "border": null,
       "bottom": null,
       "display": null,
       "flex": null,
       "flex_flow": null,
       "grid_area": null,
       "grid_auto_columns": null,
       "grid_auto_flow": null,
       "grid_auto_rows": null,
       "grid_column": null,
       "grid_gap": null,
       "grid_row": null,
       "grid_template_areas": null,
       "grid_template_columns": null,
       "grid_template_rows": null,
       "height": null,
       "justify_content": null,
       "justify_items": null,
       "left": null,
       "margin": null,
       "max_height": null,
       "max_width": null,
       "min_height": null,
       "min_width": null,
       "object_fit": null,
       "object_position": null,
       "order": null,
       "overflow": null,
       "overflow_x": null,
       "overflow_y": null,
       "padding": null,
       "right": null,
       "top": null,
       "visibility": null,
       "width": null
      }
     },
     "1e5a4f4058cc40cf8fbe01d78d7d814e": {
      "model_module": "@jupyter-widgets/controls",
      "model_module_version": "1.5.0",
      "model_name": "HTMLModel",
      "state": {
       "_dom_classes": [],
       "_model_module": "@jupyter-widgets/controls",
       "_model_module_version": "1.5.0",
       "_model_name": "HTMLModel",
       "_view_count": null,
       "_view_module": "@jupyter-widgets/controls",
       "_view_module_version": "1.5.0",
       "_view_name": "HTMLView",
       "description": "",
       "description_tooltip": null,
       "layout": "IPY_MODEL_3fa2ae3d8ccd45b08bd870a7512b6c06",
       "placeholder": "​",
       "style": "IPY_MODEL_f949a020228e4412b565de3b5eb85ad9",
       "value": "100%"
      }
     },
     "2328932bccd44057820e7c913d95004e": {
      "model_module": "@jupyter-widgets/controls",
      "model_module_version": "1.5.0",
      "model_name": "HTMLModel",
      "state": {
       "_dom_classes": [],
       "_model_module": "@jupyter-widgets/controls",
       "_model_module_version": "1.5.0",
       "_model_name": "HTMLModel",
       "_view_count": null,
       "_view_module": "@jupyter-widgets/controls",
       "_view_module_version": "1.5.0",
       "_view_name": "HTMLView",
       "description": "",
       "description_tooltip": null,
       "layout": "IPY_MODEL_ae1ef6f6b649487a91a21d8cbc651b9f",
       "placeholder": "​",
       "style": "IPY_MODEL_3d6b12851804444eb633d9c88d600ad1",
       "value": " 1306122/1306122 [00:06&lt;00:00, 206804.80it/s]"
      }
     },
     "24fadbb6e3554853b510dcee108479f6": {
      "model_module": "@jupyter-widgets/controls",
      "model_module_version": "1.5.0",
      "model_name": "FloatProgressModel",
      "state": {
       "_dom_classes": [],
       "_model_module": "@jupyter-widgets/controls",
       "_model_module_version": "1.5.0",
       "_model_name": "FloatProgressModel",
       "_view_count": null,
       "_view_module": "@jupyter-widgets/controls",
       "_view_module_version": "1.5.0",
       "_view_name": "ProgressView",
       "bar_style": "success",
       "description": "",
       "description_tooltip": null,
       "layout": "IPY_MODEL_9a8d41a2a0e244d8b2c566e6f2469f19",
       "max": 1306122,
       "min": 0,
       "orientation": "horizontal",
       "style": "IPY_MODEL_f3b9139f39a44bc4a5375a8be41474e4",
       "value": 1306122
      }
     },
     "26be548327ff41129570332def193371": {
      "model_module": "@jupyter-widgets/controls",
      "model_module_version": "1.5.0",
      "model_name": "HBoxModel",
      "state": {
       "_dom_classes": [],
       "_model_module": "@jupyter-widgets/controls",
       "_model_module_version": "1.5.0",
       "_model_name": "HBoxModel",
       "_view_count": null,
       "_view_module": "@jupyter-widgets/controls",
       "_view_module_version": "1.5.0",
       "_view_name": "HBoxView",
       "box_style": "",
       "children": [
        "IPY_MODEL_1e5a4f4058cc40cf8fbe01d78d7d814e",
        "IPY_MODEL_f0cfdd8fa33b40849acf72cf9f87d2a8",
        "IPY_MODEL_eeb649ddf5004d73961184b0e5056b5e"
       ],
       "layout": "IPY_MODEL_2ca91cc496db450896a73f6c28ac6747"
      }
     },
     "2ca91cc496db450896a73f6c28ac6747": {
      "model_module": "@jupyter-widgets/base",
      "model_module_version": "1.2.0",
      "model_name": "LayoutModel",
      "state": {
       "_model_module": "@jupyter-widgets/base",
       "_model_module_version": "1.2.0",
       "_model_name": "LayoutModel",
       "_view_count": null,
       "_view_module": "@jupyter-widgets/base",
       "_view_module_version": "1.2.0",
       "_view_name": "LayoutView",
       "align_content": null,
       "align_items": null,
       "align_self": null,
       "border": null,
       "bottom": null,
       "display": null,
       "flex": null,
       "flex_flow": null,
       "grid_area": null,
       "grid_auto_columns": null,
       "grid_auto_flow": null,
       "grid_auto_rows": null,
       "grid_column": null,
       "grid_gap": null,
       "grid_row": null,
       "grid_template_areas": null,
       "grid_template_columns": null,
       "grid_template_rows": null,
       "height": null,
       "justify_content": null,
       "justify_items": null,
       "left": null,
       "margin": null,
       "max_height": null,
       "max_width": null,
       "min_height": null,
       "min_width": null,
       "object_fit": null,
       "object_position": null,
       "order": null,
       "overflow": null,
       "overflow_x": null,
       "overflow_y": null,
       "padding": null,
       "right": null,
       "top": null,
       "visibility": null,
       "width": null
      }
     },
     "305b23d696d047619961312dcdc933a4": {
      "model_module": "@jupyter-widgets/controls",
      "model_module_version": "1.5.0",
      "model_name": "ProgressStyleModel",
      "state": {
       "_model_module": "@jupyter-widgets/controls",
       "_model_module_version": "1.5.0",
       "_model_name": "ProgressStyleModel",
       "_view_count": null,
       "_view_module": "@jupyter-widgets/base",
       "_view_module_version": "1.2.0",
       "_view_name": "StyleView",
       "bar_color": null,
       "description_width": ""
      }
     },
     "33af713baa704f28ab234206b029555f": {
      "model_module": "@jupyter-widgets/controls",
      "model_module_version": "1.5.0",
      "model_name": "DescriptionStyleModel",
      "state": {
       "_model_module": "@jupyter-widgets/controls",
       "_model_module_version": "1.5.0",
       "_model_name": "DescriptionStyleModel",
       "_view_count": null,
       "_view_module": "@jupyter-widgets/base",
       "_view_module_version": "1.2.0",
       "_view_name": "StyleView",
       "description_width": ""
      }
     },
     "36e9d9e070634118990db807890f9317": {
      "model_module": "@jupyter-widgets/base",
      "model_module_version": "1.2.0",
      "model_name": "LayoutModel",
      "state": {
       "_model_module": "@jupyter-widgets/base",
       "_model_module_version": "1.2.0",
       "_model_name": "LayoutModel",
       "_view_count": null,
       "_view_module": "@jupyter-widgets/base",
       "_view_module_version": "1.2.0",
       "_view_name": "LayoutView",
       "align_content": null,
       "align_items": null,
       "align_self": null,
       "border": null,
       "bottom": null,
       "display": null,
       "flex": null,
       "flex_flow": null,
       "grid_area": null,
       "grid_auto_columns": null,
       "grid_auto_flow": null,
       "grid_auto_rows": null,
       "grid_column": null,
       "grid_gap": null,
       "grid_row": null,
       "grid_template_areas": null,
       "grid_template_columns": null,
       "grid_template_rows": null,
       "height": null,
       "justify_content": null,
       "justify_items": null,
       "left": null,
       "margin": null,
       "max_height": null,
       "max_width": null,
       "min_height": null,
       "min_width": null,
       "object_fit": null,
       "object_position": null,
       "order": null,
       "overflow": null,
       "overflow_x": null,
       "overflow_y": null,
       "padding": null,
       "right": null,
       "top": null,
       "visibility": null,
       "width": null
      }
     },
     "3a221f2ea7e142f48932ba98a71e04a9": {
      "model_module": "@jupyter-widgets/base",
      "model_module_version": "1.2.0",
      "model_name": "LayoutModel",
      "state": {
       "_model_module": "@jupyter-widgets/base",
       "_model_module_version": "1.2.0",
       "_model_name": "LayoutModel",
       "_view_count": null,
       "_view_module": "@jupyter-widgets/base",
       "_view_module_version": "1.2.0",
       "_view_name": "LayoutView",
       "align_content": null,
       "align_items": null,
       "align_self": null,
       "border": null,
       "bottom": null,
       "display": null,
       "flex": null,
       "flex_flow": null,
       "grid_area": null,
       "grid_auto_columns": null,
       "grid_auto_flow": null,
       "grid_auto_rows": null,
       "grid_column": null,
       "grid_gap": null,
       "grid_row": null,
       "grid_template_areas": null,
       "grid_template_columns": null,
       "grid_template_rows": null,
       "height": null,
       "justify_content": null,
       "justify_items": null,
       "left": null,
       "margin": null,
       "max_height": null,
       "max_width": null,
       "min_height": null,
       "min_width": null,
       "object_fit": null,
       "object_position": null,
       "order": null,
       "overflow": null,
       "overflow_x": null,
       "overflow_y": null,
       "padding": null,
       "right": null,
       "top": null,
       "visibility": null,
       "width": null
      }
     },
     "3d6b12851804444eb633d9c88d600ad1": {
      "model_module": "@jupyter-widgets/controls",
      "model_module_version": "1.5.0",
      "model_name": "DescriptionStyleModel",
      "state": {
       "_model_module": "@jupyter-widgets/controls",
       "_model_module_version": "1.5.0",
       "_model_name": "DescriptionStyleModel",
       "_view_count": null,
       "_view_module": "@jupyter-widgets/base",
       "_view_module_version": "1.2.0",
       "_view_name": "StyleView",
       "description_width": ""
      }
     },
     "3fa2ae3d8ccd45b08bd870a7512b6c06": {
      "model_module": "@jupyter-widgets/base",
      "model_module_version": "1.2.0",
      "model_name": "LayoutModel",
      "state": {
       "_model_module": "@jupyter-widgets/base",
       "_model_module_version": "1.2.0",
       "_model_name": "LayoutModel",
       "_view_count": null,
       "_view_module": "@jupyter-widgets/base",
       "_view_module_version": "1.2.0",
       "_view_name": "LayoutView",
       "align_content": null,
       "align_items": null,
       "align_self": null,
       "border": null,
       "bottom": null,
       "display": null,
       "flex": null,
       "flex_flow": null,
       "grid_area": null,
       "grid_auto_columns": null,
       "grid_auto_flow": null,
       "grid_auto_rows": null,
       "grid_column": null,
       "grid_gap": null,
       "grid_row": null,
       "grid_template_areas": null,
       "grid_template_columns": null,
       "grid_template_rows": null,
       "height": null,
       "justify_content": null,
       "justify_items": null,
       "left": null,
       "margin": null,
       "max_height": null,
       "max_width": null,
       "min_height": null,
       "min_width": null,
       "object_fit": null,
       "object_position": null,
       "order": null,
       "overflow": null,
       "overflow_x": null,
       "overflow_y": null,
       "padding": null,
       "right": null,
       "top": null,
       "visibility": null,
       "width": null
      }
     },
     "41a899a1cf43401c99b91c776ea4c5f8": {
      "model_module": "@jupyter-widgets/controls",
      "model_module_version": "1.5.0",
      "model_name": "HBoxModel",
      "state": {
       "_dom_classes": [],
       "_model_module": "@jupyter-widgets/controls",
       "_model_module_version": "1.5.0",
       "_model_name": "HBoxModel",
       "_view_count": null,
       "_view_module": "@jupyter-widgets/controls",
       "_view_module_version": "1.5.0",
       "_view_name": "HBoxView",
       "box_style": "",
       "children": [
        "IPY_MODEL_b8d31896188243288e8e5bf0ae83047f",
        "IPY_MODEL_24fadbb6e3554853b510dcee108479f6",
        "IPY_MODEL_9fe1cf633bb4430894d922efed885274"
       ],
       "layout": "IPY_MODEL_36e9d9e070634118990db807890f9317"
      }
     },
     "41f4cbbdb355446ca507f2c3c9f38a52": {
      "model_module": "@jupyter-widgets/base",
      "model_module_version": "1.2.0",
      "model_name": "LayoutModel",
      "state": {
       "_model_module": "@jupyter-widgets/base",
       "_model_module_version": "1.2.0",
       "_model_name": "LayoutModel",
       "_view_count": null,
       "_view_module": "@jupyter-widgets/base",
       "_view_module_version": "1.2.0",
       "_view_name": "LayoutView",
       "align_content": null,
       "align_items": null,
       "align_self": null,
       "border": null,
       "bottom": null,
       "display": null,
       "flex": null,
       "flex_flow": null,
       "grid_area": null,
       "grid_auto_columns": null,
       "grid_auto_flow": null,
       "grid_auto_rows": null,
       "grid_column": null,
       "grid_gap": null,
       "grid_row": null,
       "grid_template_areas": null,
       "grid_template_columns": null,
       "grid_template_rows": null,
       "height": null,
       "justify_content": null,
       "justify_items": null,
       "left": null,
       "margin": null,
       "max_height": null,
       "max_width": null,
       "min_height": null,
       "min_width": null,
       "object_fit": null,
       "object_position": null,
       "order": null,
       "overflow": null,
       "overflow_x": null,
       "overflow_y": null,
       "padding": null,
       "right": null,
       "top": null,
       "visibility": null,
       "width": null
      }
     },
     "44dea5ecf3e0456b86b34ec643f928d5": {
      "model_module": "@jupyter-widgets/base",
      "model_module_version": "1.2.0",
      "model_name": "LayoutModel",
      "state": {
       "_model_module": "@jupyter-widgets/base",
       "_model_module_version": "1.2.0",
       "_model_name": "LayoutModel",
       "_view_count": null,
       "_view_module": "@jupyter-widgets/base",
       "_view_module_version": "1.2.0",
       "_view_name": "LayoutView",
       "align_content": null,
       "align_items": null,
       "align_self": null,
       "border": null,
       "bottom": null,
       "display": null,
       "flex": null,
       "flex_flow": null,
       "grid_area": null,
       "grid_auto_columns": null,
       "grid_auto_flow": null,
       "grid_auto_rows": null,
       "grid_column": null,
       "grid_gap": null,
       "grid_row": null,
       "grid_template_areas": null,
       "grid_template_columns": null,
       "grid_template_rows": null,
       "height": null,
       "justify_content": null,
       "justify_items": null,
       "left": null,
       "margin": null,
       "max_height": null,
       "max_width": null,
       "min_height": null,
       "min_width": null,
       "object_fit": null,
       "object_position": null,
       "order": null,
       "overflow": null,
       "overflow_x": null,
       "overflow_y": null,
       "padding": null,
       "right": null,
       "top": null,
       "visibility": null,
       "width": null
      }
     },
     "46da87538dd748a79896ba04e582ab20": {
      "model_module": "@jupyter-widgets/controls",
      "model_module_version": "1.5.0",
      "model_name": "DescriptionStyleModel",
      "state": {
       "_model_module": "@jupyter-widgets/controls",
       "_model_module_version": "1.5.0",
       "_model_name": "DescriptionStyleModel",
       "_view_count": null,
       "_view_module": "@jupyter-widgets/base",
       "_view_module_version": "1.2.0",
       "_view_name": "StyleView",
       "description_width": ""
      }
     },
     "471a0062f6b24c05bd4aba57e6cffd8b": {
      "model_module": "@jupyter-widgets/base",
      "model_module_version": "1.2.0",
      "model_name": "LayoutModel",
      "state": {
       "_model_module": "@jupyter-widgets/base",
       "_model_module_version": "1.2.0",
       "_model_name": "LayoutModel",
       "_view_count": null,
       "_view_module": "@jupyter-widgets/base",
       "_view_module_version": "1.2.0",
       "_view_name": "LayoutView",
       "align_content": null,
       "align_items": null,
       "align_self": null,
       "border": null,
       "bottom": null,
       "display": null,
       "flex": null,
       "flex_flow": null,
       "grid_area": null,
       "grid_auto_columns": null,
       "grid_auto_flow": null,
       "grid_auto_rows": null,
       "grid_column": null,
       "grid_gap": null,
       "grid_row": null,
       "grid_template_areas": null,
       "grid_template_columns": null,
       "grid_template_rows": null,
       "height": null,
       "justify_content": null,
       "justify_items": null,
       "left": null,
       "margin": null,
       "max_height": null,
       "max_width": null,
       "min_height": null,
       "min_width": null,
       "object_fit": null,
       "object_position": null,
       "order": null,
       "overflow": null,
       "overflow_x": null,
       "overflow_y": null,
       "padding": null,
       "right": null,
       "top": null,
       "visibility": null,
       "width": null
      }
     },
     "4dbf039802664e7181e6ee143c42c83b": {
      "model_module": "@jupyter-widgets/controls",
      "model_module_version": "1.5.0",
      "model_name": "HBoxModel",
      "state": {
       "_dom_classes": [],
       "_model_module": "@jupyter-widgets/controls",
       "_model_module_version": "1.5.0",
       "_model_name": "HBoxModel",
       "_view_count": null,
       "_view_module": "@jupyter-widgets/controls",
       "_view_module_version": "1.5.0",
       "_view_name": "HBoxView",
       "box_style": "",
       "children": [
        "IPY_MODEL_f70c7359d52a4e658854efa256d828d3",
        "IPY_MODEL_a04c924af7e34cb3b72fb77e5ff7ea20",
        "IPY_MODEL_914e13ac1a4b4fa58543c502bb16a523"
       ],
       "layout": "IPY_MODEL_e75ea3cf3c96432d89b7a132f3d924ef"
      }
     },
     "4e25cb53ce24451eb0afcaa762e1180a": {
      "model_module": "@jupyter-widgets/controls",
      "model_module_version": "1.5.0",
      "model_name": "HTMLModel",
      "state": {
       "_dom_classes": [],
       "_model_module": "@jupyter-widgets/controls",
       "_model_module_version": "1.5.0",
       "_model_name": "HTMLModel",
       "_view_count": null,
       "_view_module": "@jupyter-widgets/controls",
       "_view_module_version": "1.5.0",
       "_view_name": "HTMLView",
       "description": "",
       "description_tooltip": null,
       "layout": "IPY_MODEL_3a221f2ea7e142f48932ba98a71e04a9",
       "placeholder": "​",
       "style": "IPY_MODEL_a4b8fb09397045e58bc28c26fa78778c",
       "value": " 1306122/1306122 [02:16&lt;00:00, 10037.32it/s]"
      }
     },
     "4f96f31088a64a9fa4c1ccd5ab8fb59e": {
      "model_module": "@jupyter-widgets/controls",
      "model_module_version": "1.5.0",
      "model_name": "DescriptionStyleModel",
      "state": {
       "_model_module": "@jupyter-widgets/controls",
       "_model_module_version": "1.5.0",
       "_model_name": "DescriptionStyleModel",
       "_view_count": null,
       "_view_module": "@jupyter-widgets/base",
       "_view_module_version": "1.2.0",
       "_view_name": "StyleView",
       "description_width": ""
      }
     },
     "53ccc06dab1249ae8bd491622200793e": {
      "model_module": "@jupyter-widgets/base",
      "model_module_version": "1.2.0",
      "model_name": "LayoutModel",
      "state": {
       "_model_module": "@jupyter-widgets/base",
       "_model_module_version": "1.2.0",
       "_model_name": "LayoutModel",
       "_view_count": null,
       "_view_module": "@jupyter-widgets/base",
       "_view_module_version": "1.2.0",
       "_view_name": "LayoutView",
       "align_content": null,
       "align_items": null,
       "align_self": null,
       "border": null,
       "bottom": null,
       "display": null,
       "flex": null,
       "flex_flow": null,
       "grid_area": null,
       "grid_auto_columns": null,
       "grid_auto_flow": null,
       "grid_auto_rows": null,
       "grid_column": null,
       "grid_gap": null,
       "grid_row": null,
       "grid_template_areas": null,
       "grid_template_columns": null,
       "grid_template_rows": null,
       "height": null,
       "justify_content": null,
       "justify_items": null,
       "left": null,
       "margin": null,
       "max_height": null,
       "max_width": null,
       "min_height": null,
       "min_width": null,
       "object_fit": null,
       "object_position": null,
       "order": null,
       "overflow": null,
       "overflow_x": null,
       "overflow_y": null,
       "padding": null,
       "right": null,
       "top": null,
       "visibility": null,
       "width": null
      }
     },
     "54af73718fcc44c5946ebb3ba617cea9": {
      "model_module": "@jupyter-widgets/controls",
      "model_module_version": "1.5.0",
      "model_name": "HBoxModel",
      "state": {
       "_dom_classes": [],
       "_model_module": "@jupyter-widgets/controls",
       "_model_module_version": "1.5.0",
       "_model_name": "HBoxModel",
       "_view_count": null,
       "_view_module": "@jupyter-widgets/controls",
       "_view_module_version": "1.5.0",
       "_view_name": "HBoxView",
       "box_style": "",
       "children": [
        "IPY_MODEL_15c5b1693af44e32bebbc87d6edce6d3",
        "IPY_MODEL_dfdb5689d7634aeda5312f04ad3f0be2",
        "IPY_MODEL_96faa2f0861145ff824928aa07a40858"
       ],
       "layout": "IPY_MODEL_6c5d47afc03c47f286bc11304b434b8a"
      }
     },
     "5bbc4c7577914e56af7cab338725344c": {
      "model_module": "@jupyter-widgets/controls",
      "model_module_version": "1.5.0",
      "model_name": "ProgressStyleModel",
      "state": {
       "_model_module": "@jupyter-widgets/controls",
       "_model_module_version": "1.5.0",
       "_model_name": "ProgressStyleModel",
       "_view_count": null,
       "_view_module": "@jupyter-widgets/base",
       "_view_module_version": "1.2.0",
       "_view_name": "StyleView",
       "bar_color": null,
       "description_width": ""
      }
     },
     "6212ecc2ff904622b6fb817b9ccdd705": {
      "model_module": "@jupyter-widgets/controls",
      "model_module_version": "1.5.0",
      "model_name": "ProgressStyleModel",
      "state": {
       "_model_module": "@jupyter-widgets/controls",
       "_model_module_version": "1.5.0",
       "_model_name": "ProgressStyleModel",
       "_view_count": null,
       "_view_module": "@jupyter-widgets/base",
       "_view_module_version": "1.2.0",
       "_view_name": "StyleView",
       "bar_color": null,
       "description_width": ""
      }
     },
     "62e25861b4944b5e85175e75b8b0a00e": {
      "model_module": "@jupyter-widgets/controls",
      "model_module_version": "1.5.0",
      "model_name": "DescriptionStyleModel",
      "state": {
       "_model_module": "@jupyter-widgets/controls",
       "_model_module_version": "1.5.0",
       "_model_name": "DescriptionStyleModel",
       "_view_count": null,
       "_view_module": "@jupyter-widgets/base",
       "_view_module_version": "1.2.0",
       "_view_name": "StyleView",
       "description_width": ""
      }
     },
     "6ab983404d794278a751d84f2dfe4dd1": {
      "model_module": "@jupyter-widgets/base",
      "model_module_version": "1.2.0",
      "model_name": "LayoutModel",
      "state": {
       "_model_module": "@jupyter-widgets/base",
       "_model_module_version": "1.2.0",
       "_model_name": "LayoutModel",
       "_view_count": null,
       "_view_module": "@jupyter-widgets/base",
       "_view_module_version": "1.2.0",
       "_view_name": "LayoutView",
       "align_content": null,
       "align_items": null,
       "align_self": null,
       "border": null,
       "bottom": null,
       "display": null,
       "flex": null,
       "flex_flow": null,
       "grid_area": null,
       "grid_auto_columns": null,
       "grid_auto_flow": null,
       "grid_auto_rows": null,
       "grid_column": null,
       "grid_gap": null,
       "grid_row": null,
       "grid_template_areas": null,
       "grid_template_columns": null,
       "grid_template_rows": null,
       "height": null,
       "justify_content": null,
       "justify_items": null,
       "left": null,
       "margin": null,
       "max_height": null,
       "max_width": null,
       "min_height": null,
       "min_width": null,
       "object_fit": null,
       "object_position": null,
       "order": null,
       "overflow": null,
       "overflow_x": null,
       "overflow_y": null,
       "padding": null,
       "right": null,
       "top": null,
       "visibility": null,
       "width": null
      }
     },
     "6c5d47afc03c47f286bc11304b434b8a": {
      "model_module": "@jupyter-widgets/base",
      "model_module_version": "1.2.0",
      "model_name": "LayoutModel",
      "state": {
       "_model_module": "@jupyter-widgets/base",
       "_model_module_version": "1.2.0",
       "_model_name": "LayoutModel",
       "_view_count": null,
       "_view_module": "@jupyter-widgets/base",
       "_view_module_version": "1.2.0",
       "_view_name": "LayoutView",
       "align_content": null,
       "align_items": null,
       "align_self": null,
       "border": null,
       "bottom": null,
       "display": null,
       "flex": null,
       "flex_flow": null,
       "grid_area": null,
       "grid_auto_columns": null,
       "grid_auto_flow": null,
       "grid_auto_rows": null,
       "grid_column": null,
       "grid_gap": null,
       "grid_row": null,
       "grid_template_areas": null,
       "grid_template_columns": null,
       "grid_template_rows": null,
       "height": null,
       "justify_content": null,
       "justify_items": null,
       "left": null,
       "margin": null,
       "max_height": null,
       "max_width": null,
       "min_height": null,
       "min_width": null,
       "object_fit": null,
       "object_position": null,
       "order": null,
       "overflow": null,
       "overflow_x": null,
       "overflow_y": null,
       "padding": null,
       "right": null,
       "top": null,
       "visibility": null,
       "width": null
      }
     },
     "6f06bf8caab640dfb0a6b6864d685c4b": {
      "model_module": "@jupyter-widgets/base",
      "model_module_version": "1.2.0",
      "model_name": "LayoutModel",
      "state": {
       "_model_module": "@jupyter-widgets/base",
       "_model_module_version": "1.2.0",
       "_model_name": "LayoutModel",
       "_view_count": null,
       "_view_module": "@jupyter-widgets/base",
       "_view_module_version": "1.2.0",
       "_view_name": "LayoutView",
       "align_content": null,
       "align_items": null,
       "align_self": null,
       "border": null,
       "bottom": null,
       "display": null,
       "flex": null,
       "flex_flow": null,
       "grid_area": null,
       "grid_auto_columns": null,
       "grid_auto_flow": null,
       "grid_auto_rows": null,
       "grid_column": null,
       "grid_gap": null,
       "grid_row": null,
       "grid_template_areas": null,
       "grid_template_columns": null,
       "grid_template_rows": null,
       "height": null,
       "justify_content": null,
       "justify_items": null,
       "left": null,
       "margin": null,
       "max_height": null,
       "max_width": null,
       "min_height": null,
       "min_width": null,
       "object_fit": null,
       "object_position": null,
       "order": null,
       "overflow": null,
       "overflow_x": null,
       "overflow_y": null,
       "padding": null,
       "right": null,
       "top": null,
       "visibility": null,
       "width": null
      }
     },
     "6fb674e9cc32403ebe0fb50dff932293": {
      "model_module": "@jupyter-widgets/base",
      "model_module_version": "1.2.0",
      "model_name": "LayoutModel",
      "state": {
       "_model_module": "@jupyter-widgets/base",
       "_model_module_version": "1.2.0",
       "_model_name": "LayoutModel",
       "_view_count": null,
       "_view_module": "@jupyter-widgets/base",
       "_view_module_version": "1.2.0",
       "_view_name": "LayoutView",
       "align_content": null,
       "align_items": null,
       "align_self": null,
       "border": null,
       "bottom": null,
       "display": null,
       "flex": null,
       "flex_flow": null,
       "grid_area": null,
       "grid_auto_columns": null,
       "grid_auto_flow": null,
       "grid_auto_rows": null,
       "grid_column": null,
       "grid_gap": null,
       "grid_row": null,
       "grid_template_areas": null,
       "grid_template_columns": null,
       "grid_template_rows": null,
       "height": null,
       "justify_content": null,
       "justify_items": null,
       "left": null,
       "margin": null,
       "max_height": null,
       "max_width": null,
       "min_height": null,
       "min_width": null,
       "object_fit": null,
       "object_position": null,
       "order": null,
       "overflow": null,
       "overflow_x": null,
       "overflow_y": null,
       "padding": null,
       "right": null,
       "top": null,
       "visibility": null,
       "width": null
      }
     },
     "72e7ab8895b144c1932ab651db525be1": {
      "model_module": "@jupyter-widgets/controls",
      "model_module_version": "1.5.0",
      "model_name": "ProgressStyleModel",
      "state": {
       "_model_module": "@jupyter-widgets/controls",
       "_model_module_version": "1.5.0",
       "_model_name": "ProgressStyleModel",
       "_view_count": null,
       "_view_module": "@jupyter-widgets/base",
       "_view_module_version": "1.2.0",
       "_view_name": "StyleView",
       "bar_color": null,
       "description_width": ""
      }
     },
     "77104b08495846a18badc7d24134b965": {
      "model_module": "@jupyter-widgets/base",
      "model_module_version": "1.2.0",
      "model_name": "LayoutModel",
      "state": {
       "_model_module": "@jupyter-widgets/base",
       "_model_module_version": "1.2.0",
       "_model_name": "LayoutModel",
       "_view_count": null,
       "_view_module": "@jupyter-widgets/base",
       "_view_module_version": "1.2.0",
       "_view_name": "LayoutView",
       "align_content": null,
       "align_items": null,
       "align_self": null,
       "border": null,
       "bottom": null,
       "display": null,
       "flex": null,
       "flex_flow": null,
       "grid_area": null,
       "grid_auto_columns": null,
       "grid_auto_flow": null,
       "grid_auto_rows": null,
       "grid_column": null,
       "grid_gap": null,
       "grid_row": null,
       "grid_template_areas": null,
       "grid_template_columns": null,
       "grid_template_rows": null,
       "height": null,
       "justify_content": null,
       "justify_items": null,
       "left": null,
       "margin": null,
       "max_height": null,
       "max_width": null,
       "min_height": null,
       "min_width": null,
       "object_fit": null,
       "object_position": null,
       "order": null,
       "overflow": null,
       "overflow_x": null,
       "overflow_y": null,
       "padding": null,
       "right": null,
       "top": null,
       "visibility": null,
       "width": null
      }
     },
     "7a866e6aa4394aa8ab5072694f7920fd": {
      "model_module": "@jupyter-widgets/controls",
      "model_module_version": "1.5.0",
      "model_name": "DescriptionStyleModel",
      "state": {
       "_model_module": "@jupyter-widgets/controls",
       "_model_module_version": "1.5.0",
       "_model_name": "DescriptionStyleModel",
       "_view_count": null,
       "_view_module": "@jupyter-widgets/base",
       "_view_module_version": "1.2.0",
       "_view_name": "StyleView",
       "description_width": ""
      }
     },
     "7c442057bd334086abcafb74f4c8733f": {
      "model_module": "@jupyter-widgets/base",
      "model_module_version": "1.2.0",
      "model_name": "LayoutModel",
      "state": {
       "_model_module": "@jupyter-widgets/base",
       "_model_module_version": "1.2.0",
       "_model_name": "LayoutModel",
       "_view_count": null,
       "_view_module": "@jupyter-widgets/base",
       "_view_module_version": "1.2.0",
       "_view_name": "LayoutView",
       "align_content": null,
       "align_items": null,
       "align_self": null,
       "border": null,
       "bottom": null,
       "display": null,
       "flex": null,
       "flex_flow": null,
       "grid_area": null,
       "grid_auto_columns": null,
       "grid_auto_flow": null,
       "grid_auto_rows": null,
       "grid_column": null,
       "grid_gap": null,
       "grid_row": null,
       "grid_template_areas": null,
       "grid_template_columns": null,
       "grid_template_rows": null,
       "height": null,
       "justify_content": null,
       "justify_items": null,
       "left": null,
       "margin": null,
       "max_height": null,
       "max_width": null,
       "min_height": null,
       "min_width": null,
       "object_fit": null,
       "object_position": null,
       "order": null,
       "overflow": null,
       "overflow_x": null,
       "overflow_y": null,
       "padding": null,
       "right": null,
       "top": null,
       "visibility": null,
       "width": null
      }
     },
     "914e13ac1a4b4fa58543c502bb16a523": {
      "model_module": "@jupyter-widgets/controls",
      "model_module_version": "1.5.0",
      "model_name": "HTMLModel",
      "state": {
       "_dom_classes": [],
       "_model_module": "@jupyter-widgets/controls",
       "_model_module_version": "1.5.0",
       "_model_name": "HTMLModel",
       "_view_count": null,
       "_view_module": "@jupyter-widgets/controls",
       "_view_module_version": "1.5.0",
       "_view_name": "HTMLView",
       "description": "",
       "description_tooltip": null,
       "layout": "IPY_MODEL_44dea5ecf3e0456b86b34ec643f928d5",
       "placeholder": "​",
       "style": "IPY_MODEL_46da87538dd748a79896ba04e582ab20",
       "value": " 1306122/1306122 [00:24&lt;00:00, 41889.18it/s]"
      }
     },
     "91f908737a6748bf80318766d6da7737": {
      "model_module": "@jupyter-widgets/controls",
      "model_module_version": "1.5.0",
      "model_name": "HTMLModel",
      "state": {
       "_dom_classes": [],
       "_model_module": "@jupyter-widgets/controls",
       "_model_module_version": "1.5.0",
       "_model_name": "HTMLModel",
       "_view_count": null,
       "_view_module": "@jupyter-widgets/controls",
       "_view_module_version": "1.5.0",
       "_view_name": "HTMLView",
       "description": "",
       "description_tooltip": null,
       "layout": "IPY_MODEL_c1eef70d656341d98f772f231267299d",
       "placeholder": "​",
       "style": "IPY_MODEL_4f96f31088a64a9fa4c1ccd5ab8fb59e",
       "value": "100%"
      }
     },
     "96faa2f0861145ff824928aa07a40858": {
      "model_module": "@jupyter-widgets/controls",
      "model_module_version": "1.5.0",
      "model_name": "HTMLModel",
      "state": {
       "_dom_classes": [],
       "_model_module": "@jupyter-widgets/controls",
       "_model_module_version": "1.5.0",
       "_model_name": "HTMLModel",
       "_view_count": null,
       "_view_module": "@jupyter-widgets/controls",
       "_view_module_version": "1.5.0",
       "_view_name": "HTMLView",
       "description": "",
       "description_tooltip": null,
       "layout": "IPY_MODEL_6ab983404d794278a751d84f2dfe4dd1",
       "placeholder": "​",
       "style": "IPY_MODEL_7a866e6aa4394aa8ab5072694f7920fd",
       "value": " 375806/375806 [00:52&lt;00:00, 7424.98it/s]"
      }
     },
     "9a8d41a2a0e244d8b2c566e6f2469f19": {
      "model_module": "@jupyter-widgets/base",
      "model_module_version": "1.2.0",
      "model_name": "LayoutModel",
      "state": {
       "_model_module": "@jupyter-widgets/base",
       "_model_module_version": "1.2.0",
       "_model_name": "LayoutModel",
       "_view_count": null,
       "_view_module": "@jupyter-widgets/base",
       "_view_module_version": "1.2.0",
       "_view_name": "LayoutView",
       "align_content": null,
       "align_items": null,
       "align_self": null,
       "border": null,
       "bottom": null,
       "display": null,
       "flex": null,
       "flex_flow": null,
       "grid_area": null,
       "grid_auto_columns": null,
       "grid_auto_flow": null,
       "grid_auto_rows": null,
       "grid_column": null,
       "grid_gap": null,
       "grid_row": null,
       "grid_template_areas": null,
       "grid_template_columns": null,
       "grid_template_rows": null,
       "height": null,
       "justify_content": null,
       "justify_items": null,
       "left": null,
       "margin": null,
       "max_height": null,
       "max_width": null,
       "min_height": null,
       "min_width": null,
       "object_fit": null,
       "object_position": null,
       "order": null,
       "overflow": null,
       "overflow_x": null,
       "overflow_y": null,
       "padding": null,
       "right": null,
       "top": null,
       "visibility": null,
       "width": null
      }
     },
     "9fe1cf633bb4430894d922efed885274": {
      "model_module": "@jupyter-widgets/controls",
      "model_module_version": "1.5.0",
      "model_name": "HTMLModel",
      "state": {
       "_dom_classes": [],
       "_model_module": "@jupyter-widgets/controls",
       "_model_module_version": "1.5.0",
       "_model_name": "HTMLModel",
       "_view_count": null,
       "_view_module": "@jupyter-widgets/controls",
       "_view_module_version": "1.5.0",
       "_view_name": "HTMLView",
       "description": "",
       "description_tooltip": null,
       "layout": "IPY_MODEL_6f06bf8caab640dfb0a6b6864d685c4b",
       "placeholder": "​",
       "style": "IPY_MODEL_dfdb4220808f4c5ea8bd1b063ae99c39",
       "value": " 1306122/1306122 [03:03&lt;00:00, 7483.23it/s]"
      }
     },
     "a04c924af7e34cb3b72fb77e5ff7ea20": {
      "model_module": "@jupyter-widgets/controls",
      "model_module_version": "1.5.0",
      "model_name": "FloatProgressModel",
      "state": {
       "_dom_classes": [],
       "_model_module": "@jupyter-widgets/controls",
       "_model_module_version": "1.5.0",
       "_model_name": "FloatProgressModel",
       "_view_count": null,
       "_view_module": "@jupyter-widgets/controls",
       "_view_module_version": "1.5.0",
       "_view_name": "ProgressView",
       "bar_style": "success",
       "description": "",
       "description_tooltip": null,
       "layout": "IPY_MODEL_77104b08495846a18badc7d24134b965",
       "max": 1306122,
       "min": 0,
       "orientation": "horizontal",
       "style": "IPY_MODEL_b3f5b214ba3a4777b60bee076895014d",
       "value": 1306122
      }
     },
     "a4b8fb09397045e58bc28c26fa78778c": {
      "model_module": "@jupyter-widgets/controls",
      "model_module_version": "1.5.0",
      "model_name": "DescriptionStyleModel",
      "state": {
       "_model_module": "@jupyter-widgets/controls",
       "_model_module_version": "1.5.0",
       "_model_name": "DescriptionStyleModel",
       "_view_count": null,
       "_view_module": "@jupyter-widgets/base",
       "_view_module_version": "1.2.0",
       "_view_name": "StyleView",
       "description_width": ""
      }
     },
     "aa702eca86684746a1860746a6adc4e1": {
      "model_module": "@jupyter-widgets/base",
      "model_module_version": "1.2.0",
      "model_name": "LayoutModel",
      "state": {
       "_model_module": "@jupyter-widgets/base",
       "_model_module_version": "1.2.0",
       "_model_name": "LayoutModel",
       "_view_count": null,
       "_view_module": "@jupyter-widgets/base",
       "_view_module_version": "1.2.0",
       "_view_name": "LayoutView",
       "align_content": null,
       "align_items": null,
       "align_self": null,
       "border": null,
       "bottom": null,
       "display": null,
       "flex": null,
       "flex_flow": null,
       "grid_area": null,
       "grid_auto_columns": null,
       "grid_auto_flow": null,
       "grid_auto_rows": null,
       "grid_column": null,
       "grid_gap": null,
       "grid_row": null,
       "grid_template_areas": null,
       "grid_template_columns": null,
       "grid_template_rows": null,
       "height": null,
       "justify_content": null,
       "justify_items": null,
       "left": null,
       "margin": null,
       "max_height": null,
       "max_width": null,
       "min_height": null,
       "min_width": null,
       "object_fit": null,
       "object_position": null,
       "order": null,
       "overflow": null,
       "overflow_x": null,
       "overflow_y": null,
       "padding": null,
       "right": null,
       "top": null,
       "visibility": null,
       "width": null
      }
     },
     "ae1ef6f6b649487a91a21d8cbc651b9f": {
      "model_module": "@jupyter-widgets/base",
      "model_module_version": "1.2.0",
      "model_name": "LayoutModel",
      "state": {
       "_model_module": "@jupyter-widgets/base",
       "_model_module_version": "1.2.0",
       "_model_name": "LayoutModel",
       "_view_count": null,
       "_view_module": "@jupyter-widgets/base",
       "_view_module_version": "1.2.0",
       "_view_name": "LayoutView",
       "align_content": null,
       "align_items": null,
       "align_self": null,
       "border": null,
       "bottom": null,
       "display": null,
       "flex": null,
       "flex_flow": null,
       "grid_area": null,
       "grid_auto_columns": null,
       "grid_auto_flow": null,
       "grid_auto_rows": null,
       "grid_column": null,
       "grid_gap": null,
       "grid_row": null,
       "grid_template_areas": null,
       "grid_template_columns": null,
       "grid_template_rows": null,
       "height": null,
       "justify_content": null,
       "justify_items": null,
       "left": null,
       "margin": null,
       "max_height": null,
       "max_width": null,
       "min_height": null,
       "min_width": null,
       "object_fit": null,
       "object_position": null,
       "order": null,
       "overflow": null,
       "overflow_x": null,
       "overflow_y": null,
       "padding": null,
       "right": null,
       "top": null,
       "visibility": null,
       "width": null
      }
     },
     "b3f5b214ba3a4777b60bee076895014d": {
      "model_module": "@jupyter-widgets/controls",
      "model_module_version": "1.5.0",
      "model_name": "ProgressStyleModel",
      "state": {
       "_model_module": "@jupyter-widgets/controls",
       "_model_module_version": "1.5.0",
       "_model_name": "ProgressStyleModel",
       "_view_count": null,
       "_view_module": "@jupyter-widgets/base",
       "_view_module_version": "1.2.0",
       "_view_name": "StyleView",
       "bar_color": null,
       "description_width": ""
      }
     },
     "b8d31896188243288e8e5bf0ae83047f": {
      "model_module": "@jupyter-widgets/controls",
      "model_module_version": "1.5.0",
      "model_name": "HTMLModel",
      "state": {
       "_dom_classes": [],
       "_model_module": "@jupyter-widgets/controls",
       "_model_module_version": "1.5.0",
       "_model_name": "HTMLModel",
       "_view_count": null,
       "_view_module": "@jupyter-widgets/controls",
       "_view_module_version": "1.5.0",
       "_view_name": "HTMLView",
       "description": "",
       "description_tooltip": null,
       "layout": "IPY_MODEL_6fb674e9cc32403ebe0fb50dff932293",
       "placeholder": "​",
       "style": "IPY_MODEL_cc3e09e1d1064e5995380f1a251a4783",
       "value": "100%"
      }
     },
     "c1eef70d656341d98f772f231267299d": {
      "model_module": "@jupyter-widgets/base",
      "model_module_version": "1.2.0",
      "model_name": "LayoutModel",
      "state": {
       "_model_module": "@jupyter-widgets/base",
       "_model_module_version": "1.2.0",
       "_model_name": "LayoutModel",
       "_view_count": null,
       "_view_module": "@jupyter-widgets/base",
       "_view_module_version": "1.2.0",
       "_view_name": "LayoutView",
       "align_content": null,
       "align_items": null,
       "align_self": null,
       "border": null,
       "bottom": null,
       "display": null,
       "flex": null,
       "flex_flow": null,
       "grid_area": null,
       "grid_auto_columns": null,
       "grid_auto_flow": null,
       "grid_auto_rows": null,
       "grid_column": null,
       "grid_gap": null,
       "grid_row": null,
       "grid_template_areas": null,
       "grid_template_columns": null,
       "grid_template_rows": null,
       "height": null,
       "justify_content": null,
       "justify_items": null,
       "left": null,
       "margin": null,
       "max_height": null,
       "max_width": null,
       "min_height": null,
       "min_width": null,
       "object_fit": null,
       "object_position": null,
       "order": null,
       "overflow": null,
       "overflow_x": null,
       "overflow_y": null,
       "padding": null,
       "right": null,
       "top": null,
       "visibility": null,
       "width": null
      }
     },
     "cc3e09e1d1064e5995380f1a251a4783": {
      "model_module": "@jupyter-widgets/controls",
      "model_module_version": "1.5.0",
      "model_name": "DescriptionStyleModel",
      "state": {
       "_model_module": "@jupyter-widgets/controls",
       "_model_module_version": "1.5.0",
       "_model_name": "DescriptionStyleModel",
       "_view_count": null,
       "_view_module": "@jupyter-widgets/base",
       "_view_module_version": "1.2.0",
       "_view_name": "StyleView",
       "description_width": ""
      }
     },
     "dfdb4220808f4c5ea8bd1b063ae99c39": {
      "model_module": "@jupyter-widgets/controls",
      "model_module_version": "1.5.0",
      "model_name": "DescriptionStyleModel",
      "state": {
       "_model_module": "@jupyter-widgets/controls",
       "_model_module_version": "1.5.0",
       "_model_name": "DescriptionStyleModel",
       "_view_count": null,
       "_view_module": "@jupyter-widgets/base",
       "_view_module_version": "1.2.0",
       "_view_name": "StyleView",
       "description_width": ""
      }
     },
     "dfdb5689d7634aeda5312f04ad3f0be2": {
      "model_module": "@jupyter-widgets/controls",
      "model_module_version": "1.5.0",
      "model_name": "FloatProgressModel",
      "state": {
       "_dom_classes": [],
       "_model_module": "@jupyter-widgets/controls",
       "_model_module_version": "1.5.0",
       "_model_name": "FloatProgressModel",
       "_view_count": null,
       "_view_module": "@jupyter-widgets/controls",
       "_view_module_version": "1.5.0",
       "_view_name": "ProgressView",
       "bar_style": "success",
       "description": "",
       "description_tooltip": null,
       "layout": "IPY_MODEL_aa702eca86684746a1860746a6adc4e1",
       "max": 375806,
       "min": 0,
       "orientation": "horizontal",
       "style": "IPY_MODEL_305b23d696d047619961312dcdc933a4",
       "value": 375806
      }
     },
     "e5a8132b180f4879990ec30d469d2bc9": {
      "model_module": "@jupyter-widgets/controls",
      "model_module_version": "1.5.0",
      "model_name": "DescriptionStyleModel",
      "state": {
       "_model_module": "@jupyter-widgets/controls",
       "_model_module_version": "1.5.0",
       "_model_name": "DescriptionStyleModel",
       "_view_count": null,
       "_view_module": "@jupyter-widgets/base",
       "_view_module_version": "1.2.0",
       "_view_name": "StyleView",
       "description_width": ""
      }
     },
     "e75ea3cf3c96432d89b7a132f3d924ef": {
      "model_module": "@jupyter-widgets/base",
      "model_module_version": "1.2.0",
      "model_name": "LayoutModel",
      "state": {
       "_model_module": "@jupyter-widgets/base",
       "_model_module_version": "1.2.0",
       "_model_name": "LayoutModel",
       "_view_count": null,
       "_view_module": "@jupyter-widgets/base",
       "_view_module_version": "1.2.0",
       "_view_name": "LayoutView",
       "align_content": null,
       "align_items": null,
       "align_self": null,
       "border": null,
       "bottom": null,
       "display": null,
       "flex": null,
       "flex_flow": null,
       "grid_area": null,
       "grid_auto_columns": null,
       "grid_auto_flow": null,
       "grid_auto_rows": null,
       "grid_column": null,
       "grid_gap": null,
       "grid_row": null,
       "grid_template_areas": null,
       "grid_template_columns": null,
       "grid_template_rows": null,
       "height": null,
       "justify_content": null,
       "justify_items": null,
       "left": null,
       "margin": null,
       "max_height": null,
       "max_width": null,
       "min_height": null,
       "min_width": null,
       "object_fit": null,
       "object_position": null,
       "order": null,
       "overflow": null,
       "overflow_x": null,
       "overflow_y": null,
       "padding": null,
       "right": null,
       "top": null,
       "visibility": null,
       "width": null
      }
     },
     "e76aa6d0e1cc496d9fef93a054fcb3de": {
      "model_module": "@jupyter-widgets/controls",
      "model_module_version": "1.5.0",
      "model_name": "HBoxModel",
      "state": {
       "_dom_classes": [],
       "_model_module": "@jupyter-widgets/controls",
       "_model_module_version": "1.5.0",
       "_model_name": "HBoxModel",
       "_view_count": null,
       "_view_module": "@jupyter-widgets/controls",
       "_view_module_version": "1.5.0",
       "_view_name": "HBoxView",
       "box_style": "",
       "children": [
        "IPY_MODEL_91f908737a6748bf80318766d6da7737",
        "IPY_MODEL_f71d3f588989444099cc43824165e3fa",
        "IPY_MODEL_2328932bccd44057820e7c913d95004e"
       ],
       "layout": "IPY_MODEL_fa1dd304f03441dfa4a9094412e50683"
      }
     },
     "e9fc0552bc8540159e3cd28ded7d8b87": {
      "model_module": "@jupyter-widgets/controls",
      "model_module_version": "1.5.0",
      "model_name": "FloatProgressModel",
      "state": {
       "_dom_classes": [],
       "_model_module": "@jupyter-widgets/controls",
       "_model_module_version": "1.5.0",
       "_model_name": "FloatProgressModel",
       "_view_count": null,
       "_view_module": "@jupyter-widgets/controls",
       "_view_module_version": "1.5.0",
       "_view_name": "ProgressView",
       "bar_style": "success",
       "description": "",
       "description_tooltip": null,
       "layout": "IPY_MODEL_1a237cbee07b4ef7a36594ce5611ff6c",
       "max": 1306122,
       "min": 0,
       "orientation": "horizontal",
       "style": "IPY_MODEL_5bbc4c7577914e56af7cab338725344c",
       "value": 1306122
      }
     },
     "ed8340cb5cd448c5900ca560a7fdbc09": {
      "model_module": "@jupyter-widgets/controls",
      "model_module_version": "1.5.0",
      "model_name": "HBoxModel",
      "state": {
       "_dom_classes": [],
       "_model_module": "@jupyter-widgets/controls",
       "_model_module_version": "1.5.0",
       "_model_name": "HBoxModel",
       "_view_count": null,
       "_view_module": "@jupyter-widgets/controls",
       "_view_module_version": "1.5.0",
       "_view_name": "HBoxView",
       "box_style": "",
       "children": [
        "IPY_MODEL_18a6fa63f0f34a69bbe688181e89304c",
        "IPY_MODEL_e9fc0552bc8540159e3cd28ded7d8b87",
        "IPY_MODEL_4e25cb53ce24451eb0afcaa762e1180a"
       ],
       "layout": "IPY_MODEL_18d86776dc2b41d5b921c118cdd7ebc0"
      }
     },
     "edcb74eaa3f94bdfb42cab8a7b47a8b7": {
      "model_module": "@jupyter-widgets/base",
      "model_module_version": "1.2.0",
      "model_name": "LayoutModel",
      "state": {
       "_model_module": "@jupyter-widgets/base",
       "_model_module_version": "1.2.0",
       "_model_name": "LayoutModel",
       "_view_count": null,
       "_view_module": "@jupyter-widgets/base",
       "_view_module_version": "1.2.0",
       "_view_name": "LayoutView",
       "align_content": null,
       "align_items": null,
       "align_self": null,
       "border": null,
       "bottom": null,
       "display": null,
       "flex": null,
       "flex_flow": null,
       "grid_area": null,
       "grid_auto_columns": null,
       "grid_auto_flow": null,
       "grid_auto_rows": null,
       "grid_column": null,
       "grid_gap": null,
       "grid_row": null,
       "grid_template_areas": null,
       "grid_template_columns": null,
       "grid_template_rows": null,
       "height": null,
       "justify_content": null,
       "justify_items": null,
       "left": null,
       "margin": null,
       "max_height": null,
       "max_width": null,
       "min_height": null,
       "min_width": null,
       "object_fit": null,
       "object_position": null,
       "order": null,
       "overflow": null,
       "overflow_x": null,
       "overflow_y": null,
       "padding": null,
       "right": null,
       "top": null,
       "visibility": null,
       "width": null
      }
     },
     "eeb649ddf5004d73961184b0e5056b5e": {
      "model_module": "@jupyter-widgets/controls",
      "model_module_version": "1.5.0",
      "model_name": "HTMLModel",
      "state": {
       "_dom_classes": [],
       "_model_module": "@jupyter-widgets/controls",
       "_model_module_version": "1.5.0",
       "_model_name": "HTMLModel",
       "_view_count": null,
       "_view_module": "@jupyter-widgets/controls",
       "_view_module_version": "1.5.0",
       "_view_name": "HTMLView",
       "description": "",
       "description_tooltip": null,
       "layout": "IPY_MODEL_53ccc06dab1249ae8bd491622200793e",
       "placeholder": "​",
       "style": "IPY_MODEL_e5a8132b180f4879990ec30d469d2bc9",
       "value": " 1306122/1306122 [00:20&lt;00:00, 68904.46it/s]"
      }
     },
     "f0cfdd8fa33b40849acf72cf9f87d2a8": {
      "model_module": "@jupyter-widgets/controls",
      "model_module_version": "1.5.0",
      "model_name": "FloatProgressModel",
      "state": {
       "_dom_classes": [],
       "_model_module": "@jupyter-widgets/controls",
       "_model_module_version": "1.5.0",
       "_model_name": "FloatProgressModel",
       "_view_count": null,
       "_view_module": "@jupyter-widgets/controls",
       "_view_module_version": "1.5.0",
       "_view_name": "ProgressView",
       "bar_style": "success",
       "description": "",
       "description_tooltip": null,
       "layout": "IPY_MODEL_edcb74eaa3f94bdfb42cab8a7b47a8b7",
       "max": 1306122,
       "min": 0,
       "orientation": "horizontal",
       "style": "IPY_MODEL_72e7ab8895b144c1932ab651db525be1",
       "value": 1306122
      }
     },
     "f3b9139f39a44bc4a5375a8be41474e4": {
      "model_module": "@jupyter-widgets/controls",
      "model_module_version": "1.5.0",
      "model_name": "ProgressStyleModel",
      "state": {
       "_model_module": "@jupyter-widgets/controls",
       "_model_module_version": "1.5.0",
       "_model_name": "ProgressStyleModel",
       "_view_count": null,
       "_view_module": "@jupyter-widgets/base",
       "_view_module_version": "1.2.0",
       "_view_name": "StyleView",
       "bar_color": null,
       "description_width": ""
      }
     },
     "f70c7359d52a4e658854efa256d828d3": {
      "model_module": "@jupyter-widgets/controls",
      "model_module_version": "1.5.0",
      "model_name": "HTMLModel",
      "state": {
       "_dom_classes": [],
       "_model_module": "@jupyter-widgets/controls",
       "_model_module_version": "1.5.0",
       "_model_name": "HTMLModel",
       "_view_count": null,
       "_view_module": "@jupyter-widgets/controls",
       "_view_module_version": "1.5.0",
       "_view_name": "HTMLView",
       "description": "",
       "description_tooltip": null,
       "layout": "IPY_MODEL_0bd38f99bda34527b6ed5b4bbbca04e4",
       "placeholder": "​",
       "style": "IPY_MODEL_62e25861b4944b5e85175e75b8b0a00e",
       "value": "100%"
      }
     },
     "f71d3f588989444099cc43824165e3fa": {
      "model_module": "@jupyter-widgets/controls",
      "model_module_version": "1.5.0",
      "model_name": "FloatProgressModel",
      "state": {
       "_dom_classes": [],
       "_model_module": "@jupyter-widgets/controls",
       "_model_module_version": "1.5.0",
       "_model_name": "FloatProgressModel",
       "_view_count": null,
       "_view_module": "@jupyter-widgets/controls",
       "_view_module_version": "1.5.0",
       "_view_name": "ProgressView",
       "bar_style": "success",
       "description": "",
       "description_tooltip": null,
       "layout": "IPY_MODEL_41f4cbbdb355446ca507f2c3c9f38a52",
       "max": 1306122,
       "min": 0,
       "orientation": "horizontal",
       "style": "IPY_MODEL_6212ecc2ff904622b6fb817b9ccdd705",
       "value": 1306122
      }
     },
     "f949a020228e4412b565de3b5eb85ad9": {
      "model_module": "@jupyter-widgets/controls",
      "model_module_version": "1.5.0",
      "model_name": "DescriptionStyleModel",
      "state": {
       "_model_module": "@jupyter-widgets/controls",
       "_model_module_version": "1.5.0",
       "_model_name": "DescriptionStyleModel",
       "_view_count": null,
       "_view_module": "@jupyter-widgets/base",
       "_view_module_version": "1.2.0",
       "_view_name": "StyleView",
       "description_width": ""
      }
     },
     "fa1dd304f03441dfa4a9094412e50683": {
      "model_module": "@jupyter-widgets/base",
      "model_module_version": "1.2.0",
      "model_name": "LayoutModel",
      "state": {
       "_model_module": "@jupyter-widgets/base",
       "_model_module_version": "1.2.0",
       "_model_name": "LayoutModel",
       "_view_count": null,
       "_view_module": "@jupyter-widgets/base",
       "_view_module_version": "1.2.0",
       "_view_name": "LayoutView",
       "align_content": null,
       "align_items": null,
       "align_self": null,
       "border": null,
       "bottom": null,
       "display": null,
       "flex": null,
       "flex_flow": null,
       "grid_area": null,
       "grid_auto_columns": null,
       "grid_auto_flow": null,
       "grid_auto_rows": null,
       "grid_column": null,
       "grid_gap": null,
       "grid_row": null,
       "grid_template_areas": null,
       "grid_template_columns": null,
       "grid_template_rows": null,
       "height": null,
       "justify_content": null,
       "justify_items": null,
       "left": null,
       "margin": null,
       "max_height": null,
       "max_width": null,
       "min_height": null,
       "min_width": null,
       "object_fit": null,
       "object_position": null,
       "order": null,
       "overflow": null,
       "overflow_x": null,
       "overflow_y": null,
       "padding": null,
       "right": null,
       "top": null,
       "visibility": null,
       "width": null
      }
     }
    },
    "version_major": 2,
    "version_minor": 0
   }
  }
 },
 "nbformat": 4,
 "nbformat_minor": 5
}
